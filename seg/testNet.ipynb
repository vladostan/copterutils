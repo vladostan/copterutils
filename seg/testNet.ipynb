{
 "cells": [
  {
   "cell_type": "code",
   "execution_count": null,
   "metadata": {},
   "outputs": [],
   "source": [
    "import os\n",
    "import matplotlib.pylab as plt\n",
    "from glob import glob\n",
    "import numpy as np"
   ]
  },
  {
   "cell_type": "code",
   "execution_count": null,
   "metadata": {},
   "outputs": [],
   "source": [
    "PATH = os.path.abspath('data')\n",
    "\n",
    "SOURCE_IMAGES = [os.path.join(PATH, \"images/ds1\"), os.path.join(PATH, \"images/ds1/albumentated\")]\n",
    "\n",
    "images = []\n",
    "labels = []\n",
    "\n",
    "for si in SOURCE_IMAGES:\n",
    "    images.extend(glob(os.path.join(si, \"*.jpg\")))\n",
    "    labels.extend(glob(os.path.join(si.replace(\"images\",\"labels\"), \"*.png\")))"
   ]
  },
  {
   "cell_type": "code",
   "execution_count": null,
   "metadata": {},
   "outputs": [],
   "source": [
    "images.sort()\n",
    "labels.sort()"
   ]
  },
  {
   "cell_type": "code",
   "execution_count": null,
   "metadata": {},
   "outputs": [],
   "source": [
    "print(np.size(images))\n",
    "print(np.size(labels))"
   ]
  },
  {
   "cell_type": "code",
   "execution_count": null,
   "metadata": {},
   "outputs": [],
   "source": [
    "x = [] # images\n",
    "y = [] # labels\n",
    "\n",
    "for img in images:\n",
    "    full_size_image = plt.imread(img)\n",
    "    x.append(full_size_image)\n",
    "\n",
    "for lbl in labels:\n",
    "    full_size_label = plt.imread(lbl,0)\n",
    "    y.append(full_size_label)\n",
    "    \n",
    "del(images, labels, full_size_image, full_size_label)"
   ]
  },
  {
   "cell_type": "code",
   "execution_count": null,
   "metadata": {},
   "outputs": [],
   "source": [
    "x = np.asarray(x)\n",
    "y = np.asarray(y)"
   ]
  },
  {
   "cell_type": "code",
   "execution_count": null,
   "metadata": {},
   "outputs": [],
   "source": [
    "print(y.min())\n",
    "print(y.max())\n",
    "print(x.shape)\n",
    "print(y.shape)"
   ]
  },
  {
   "cell_type": "code",
   "execution_count": null,
   "metadata": {},
   "outputs": [],
   "source": [
    "# Crop squared image\n",
    "n_images, h, w = x.shape[0:3]\n",
    "\n",
    "x = x[:,:,(w-h)//2:(w-(w-h)//2),:]\n",
    "y = y[:,:,(w-h)//2:(w-(w-h)//2)]\n",
    "\n",
    "n_images, h, w = x.shape[0:3]\n",
    "\n",
    "print(x.shape)\n",
    "print(y.shape)"
   ]
  },
  {
   "cell_type": "code",
   "execution_count": null,
   "metadata": {},
   "outputs": [],
   "source": [
    "h_t, w_t = (512,512)\n",
    "split_factor = 4 # We crop this number of smaller images out of one\n",
    "x_t = np.zeros([n_images*split_factor, h_t, w_t, 3], dtype='uint8')\n",
    "y_t = np.zeros([n_images*split_factor, h_t, w_t], dtype='uint8')\n",
    "\n",
    "for i in range(n_images):\n",
    "    x_t[i] = x[i,:h//2,:w//2,:]\n",
    "    x_t[n_images+i] = x[i,:h//2,w//2:w,:]\n",
    "    x_t[n_images*2+i] = x[i,h//2:h,:w//2,:]\n",
    "    x_t[n_images*3+i] = x[i,h//2:h,w//2:w,:]\n",
    "    y_t[i] = y[i,:h//2,:w//2]\n",
    "    y_t[n_images+i] = y[i,:h//2,w//2:w]\n",
    "    y_t[n_images*2+i] = y[i,h//2:h,:w//2]\n",
    "    y_t[n_images*3+i] = y[i,h//2:h,w//2:w]\n",
    "    \n",
    "x = x_t\n",
    "y = y_t\n",
    "del(x_t,y_t)"
   ]
  },
  {
   "cell_type": "code",
   "execution_count": null,
   "metadata": {},
   "outputs": [],
   "source": [
    "cs = ['background', 'asphalt', 'building', 'forest', 'grass', 'ground', 'roadAsphalt', 'roadGround', 'water']"
   ]
  },
  {
   "cell_type": "code",
   "execution_count": null,
   "metadata": {},
   "outputs": [],
   "source": [
    "n_classes = len(cs)\n",
    "\n",
    "from keras.utils import to_categorical\n",
    "\n",
    "y = to_categorical(y, num_classes=n_classes)\n",
    "y = y.reshape(x.shape[:3] + (n_classes,))\n",
    "y.shape"
   ]
  },
  {
   "cell_type": "code",
   "execution_count": null,
   "metadata": {},
   "outputs": [],
   "source": [
    "y = y.astype('int8')"
   ]
  },
  {
   "cell_type": "code",
   "execution_count": null,
   "metadata": {},
   "outputs": [],
   "source": [
    "x = np.float32(x/255.)"
   ]
  },
  {
   "cell_type": "code",
   "execution_count": null,
   "metadata": {},
   "outputs": [],
   "source": [
    "from sklearn.model_selection import train_test_split\n",
    "\n",
    "test_size = 0.2\n",
    "print(\"Train/test split: {}/{}\\n\".format(1-test_size,test_size))\n",
    "x_train, x_test, y_train, y_test = train_test_split(x, y, test_size=test_size, random_state=1)\n",
    "\n",
    "del(x,y,x_train,y_train)"
   ]
  },
  {
   "cell_type": "code",
   "execution_count": null,
   "metadata": {},
   "outputs": [],
   "source": [
    "print(\"X_test shape: {}\".format(x_test.shape))\n",
    "print(\"Y_test shape: {}\\n\".format(y_test.shape))"
   ]
  },
  {
   "cell_type": "code",
   "execution_count": null,
   "metadata": {},
   "outputs": [],
   "source": [
    "from models.Unet import unet\n",
    "from keras import optimizers\n",
    "\n",
    "model = unet(input_size = x_test.shape[1:], n_classes=n_classes)\n",
    "\n",
    "learning_rate = 5e-5\n",
    "optimizer = optimizers.Adam(lr = learning_rate)\n",
    "loss = 'categorical_crossentropy'\n",
    "metrics = ['accuracy']\n",
    "model.compile(optimizer = optimizer, loss = loss, metrics = metrics)\n",
    "\n",
    "model.load_weights('weights/2018-10-09 20:19:40.hdf5')"
   ]
  },
  {
   "cell_type": "code",
   "execution_count": null,
   "metadata": {},
   "outputs": [],
   "source": [
    "# a = model.evaluate(x=x[:2], y=y[:2], batch_size=1, verbose=1)"
   ]
  },
  {
   "cell_type": "code",
   "execution_count": null,
   "metadata": {},
   "outputs": [],
   "source": [
    "batch_size = 1\n",
    "\n",
    "y_pred = model.predict(x_test, batch_size=batch_size, verbose=1)"
   ]
  },
  {
   "cell_type": "code",
   "execution_count": null,
   "metadata": {},
   "outputs": [],
   "source": [
    "from keras.preprocessing.image import ImageDataGenerator\n",
    "\n",
    "test_datagen = ImageDataGenerator()\n",
    "validation_generator = test_datagen.flow(x_test, y_test, batch_size=batch_size)"
   ]
  },
  {
   "cell_type": "code",
   "execution_count": null,
   "metadata": {},
   "outputs": [],
   "source": [
    "import webcolors\n",
    "\n",
    "hex_colors = ['#000000','#4A4A4A','#FF0000', '#407700', '#00FF37', '#8B572A', '#0000FF', '#FF7600', '#50E3C2']\n",
    "\n",
    "rgb_colors = []\n",
    "\n",
    "for hex_color in hex_colors:\n",
    "    rgb_colors.append(webcolors.hex_to_rgb(hex_color))\n",
    "    \n",
    "def colorize(mask, colors):\n",
    "    colorMask = np.zeros([mask.shape[0], mask.shape[1], 3],dtype=np.uint8)\n",
    "    for r in range(mask.shape[0]):\n",
    "        for c in range(mask.shape[1]):\n",
    "            colorMask[r,c,] = colors[mask[r,c]]\n",
    "\n",
    "    return colorMask"
   ]
  },
  {
   "cell_type": "code",
   "execution_count": null,
   "metadata": {},
   "outputs": [],
   "source": [
    "n = 0\n",
    "\n",
    "fig, axes = plt.subplots(nrows=1, ncols=3)\n",
    "fig.set_size_inches(15,5)\n",
    "axes[0].imshow(x_test[n])\n",
    "axes[1].imshow(colorize(np.argmax(y_test[n],axis=-1), colors = np.array(rgb_colors)))\n",
    "axes[2].imshow(colorize(np.argmax(y_pred[n],axis=-1), colors = np.array(rgb_colors)))"
   ]
  },
  {
   "cell_type": "code",
   "execution_count": null,
   "metadata": {},
   "outputs": [],
   "source": [
    "fig, axes = plt.subplots(nrows=1, ncols=3)\n",
    "fig.set_size_inches(15,5)\n",
    "for i in range(len(x_test)):\n",
    "    axes[0].set_title('RGB Image')\n",
    "    axes[1].set_title('GT Mask')\n",
    "    axes[2].set_title('Prediction Mask')\n",
    "    axes[0].imshow(x_test[i])\n",
    "    axes[1].imshow(colorize(np.argmax(y_test[i],axis=-1), colors = np.array(rgb_colors)))\n",
    "    axes[2].imshow(colorize(np.argmax(y_pred[i],axis=-1), colors = np.array(rgb_colors)))\n",
    "    fig.savefig('results/final/img{}.png'.format(i))"
   ]
  }
 ],
 "metadata": {
  "kernelspec": {
   "display_name": "Python 3",
   "language": "python",
   "name": "python3"
  },
  "language_info": {
   "codemirror_mode": {
    "name": "ipython",
    "version": 3
   },
   "file_extension": ".py",
   "mimetype": "text/x-python",
   "name": "python",
   "nbconvert_exporter": "python",
   "pygments_lexer": "ipython3",
   "version": "3.6.5"
  }
 },
 "nbformat": 4,
 "nbformat_minor": 2
}
