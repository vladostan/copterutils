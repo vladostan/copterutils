{
 "cells": [
  {
   "cell_type": "code",
   "execution_count": 1,
   "metadata": {},
   "outputs": [],
   "source": [
    "import PIL.Image as PIL\n",
    "import os, re\n",
    "import matplotlib.pyplot as plt\n",
    "%matplotlib inline"
   ]
  },
  {
   "cell_type": "code",
   "execution_count": 8,
   "metadata": {},
   "outputs": [],
   "source": [
    "def get_new_path(path):\n",
    "    basedir = os.path.dirname(path) + '/kek/'\n",
    "    if not os.path.isdir(basedir):\n",
    "        os.makedirs(basedir)\n",
    "    base, ext = os.path.splitext(os.path.basename(path))\n",
    "    file = base + ext\n",
    "\n",
    "    return basedir + base + ext"
   ]
  },
  {
   "cell_type": "code",
   "execution_count": 9,
   "metadata": {},
   "outputs": [],
   "source": [
    "PNG = re.compile(\".*\\.(png)\", re.IGNORECASE)\n",
    "\n",
    "# Images directory\n",
    "image_dir = os.path.abspath('data/labels/ds2')\n",
    "\n",
    "files = os.listdir(image_dir)\n",
    "\n",
    "test = PIL.open(image_dir.rstrip(\"/\") + \"/\" + files[0]).convert(\"L\")"
   ]
  },
  {
   "cell_type": "code",
   "execution_count": 10,
   "metadata": {},
   "outputs": [
    {
     "data": {
      "text/plain": [
       "<matplotlib.image.AxesImage at 0x1e7535eecc0>"
      ]
     },
     "execution_count": 10,
     "metadata": {},
     "output_type": "execute_result"
    },
    {
     "data": {
      "image/png": "[encoded data removed]",
      "text/plain": [
       "<matplotlib.figure.Figure at 0x1e741e6f320>"
      ]
     },
     "metadata": {},
     "output_type": "display_data"
    }
   ],
   "source": [
    "plt.imshow(test)"
   ]
  },
  {
   "cell_type": "code",
   "execution_count": 11,
   "metadata": {},
   "outputs": [
    {
     "name": "stdout",
     "output_type": "stream",
     "text": [
      "C:\\Users\\Владислав\\Desktop\\copterutils\\seg\\data\\labels\\ds2/kek/DJI_0036.png\n",
      "C:\\Users\\Владислав\\Desktop\\copterutils\\seg\\data\\labels\\ds2/kek/DJI_0038.png\n",
      "C:\\Users\\Владислав\\Desktop\\copterutils\\seg\\data\\labels\\ds2/kek/DJI_0039.png\n",
      "C:\\Users\\Владислав\\Desktop\\copterutils\\seg\\data\\labels\\ds2/kek/DJI_0041.png\n",
      "C:\\Users\\Владислав\\Desktop\\copterutils\\seg\\data\\labels\\ds2/kek/DJI_0042.png\n",
      "C:\\Users\\Владислав\\Desktop\\copterutils\\seg\\data\\labels\\ds2/kek/DJI_0044.png\n",
      "C:\\Users\\Владислав\\Desktop\\copterutils\\seg\\data\\labels\\ds2/kek/DJI_0046.png\n",
      "C:\\Users\\Владислав\\Desktop\\copterutils\\seg\\data\\labels\\ds2/kek/DJI_0047.png\n",
      "C:\\Users\\Владислав\\Desktop\\copterutils\\seg\\data\\labels\\ds2/kek/DJI_0048.png\n",
      "C:\\Users\\Владислав\\Desktop\\copterutils\\seg\\data\\labels\\ds2/kek/DJI_0049.png\n",
      "C:\\Users\\Владислав\\Desktop\\copterutils\\seg\\data\\labels\\ds2/kek/DJI_0050.png\n",
      "C:\\Users\\Владислав\\Desktop\\copterutils\\seg\\data\\labels\\ds2/kek/DJI_0051.png\n",
      "C:\\Users\\Владислав\\Desktop\\copterutils\\seg\\data\\labels\\ds2/kek/DJI_0052.png\n",
      "C:\\Users\\Владислав\\Desktop\\copterutils\\seg\\data\\labels\\ds2/kek/DJI_0053.png\n",
      "C:\\Users\\Владислав\\Desktop\\copterutils\\seg\\data\\labels\\ds2/kek/DJI_0054.png\n",
      "C:\\Users\\Владислав\\Desktop\\copterutils\\seg\\data\\labels\\ds2/kek/DJI_0055.png\n",
      "C:\\Users\\Владислав\\Desktop\\copterutils\\seg\\data\\labels\\ds2/kek/DJI_0056.png\n",
      "C:\\Users\\Владислав\\Desktop\\copterutils\\seg\\data\\labels\\ds2/kek/DJI_0057.png\n",
      "C:\\Users\\Владислав\\Desktop\\copterutils\\seg\\data\\labels\\ds2/kek/DJI_0059.png\n",
      "C:\\Users\\Владислав\\Desktop\\copterutils\\seg\\data\\labels\\ds2/kek/DJI_0063.png\n",
      "C:\\Users\\Владислав\\Desktop\\copterutils\\seg\\data\\labels\\ds2/kek/DJI_0067.png\n",
      "C:\\Users\\Владислав\\Desktop\\copterutils\\seg\\data\\labels\\ds2/kek/DJI_0068.png\n",
      "C:\\Users\\Владислав\\Desktop\\copterutils\\seg\\data\\labels\\ds2/kek/DJI_0069.png\n",
      "C:\\Users\\Владислав\\Desktop\\copterutils\\seg\\data\\labels\\ds2/kek/DJI_0070.png\n",
      "C:\\Users\\Владислав\\Desktop\\copterutils\\seg\\data\\labels\\ds2/kek/DJI_0071.png\n",
      "C:\\Users\\Владислав\\Desktop\\copterutils\\seg\\data\\labels\\ds2/kek/DJI_0072.png\n",
      "C:\\Users\\Владислав\\Desktop\\copterutils\\seg\\data\\labels\\ds2/kek/DJI_0074.png\n",
      "C:\\Users\\Владислав\\Desktop\\copterutils\\seg\\data\\labels\\ds2/kek/DJI_0076.png\n",
      "C:\\Users\\Владислав\\Desktop\\copterutils\\seg\\data\\labels\\ds2/kek/DJI_0077.png\n",
      "C:\\Users\\Владислав\\Desktop\\copterutils\\seg\\data\\labels\\ds2/kek/DJI_0078.png\n",
      "C:\\Users\\Владислав\\Desktop\\copterutils\\seg\\data\\labels\\ds2/kek/DJI_0079.png\n",
      "C:\\Users\\Владислав\\Desktop\\copterutils\\seg\\data\\labels\\ds2/kek/DJI_0082.png\n",
      "C:\\Users\\Владислав\\Desktop\\copterutils\\seg\\data\\labels\\ds2/kek/DJI_0083.png\n",
      "C:\\Users\\Владислав\\Desktop\\copterutils\\seg\\data\\labels\\ds2/kek/DJI_0084.png\n",
      "C:\\Users\\Владислав\\Desktop\\copterutils\\seg\\data\\labels\\ds2/kek/DJI_0085.png\n",
      "C:\\Users\\Владислав\\Desktop\\copterutils\\seg\\data\\labels\\ds2/kek/DJI_0086.png\n",
      "C:\\Users\\Владислав\\Desktop\\copterutils\\seg\\data\\labels\\ds2/kek/DJI_0087.png\n",
      "C:\\Users\\Владислав\\Desktop\\copterutils\\seg\\data\\labels\\ds2/kek/DJI_0088.png\n",
      "C:\\Users\\Владислав\\Desktop\\copterutils\\seg\\data\\labels\\ds2/kek/DJI_0089.png\n",
      "C:\\Users\\Владислав\\Desktop\\copterutils\\seg\\data\\labels\\ds2/kek/DJI_0090.png\n",
      "C:\\Users\\Владислав\\Desktop\\copterutils\\seg\\data\\labels\\ds2/kek/DJI_0091.png\n",
      "C:\\Users\\Владислав\\Desktop\\copterutils\\seg\\data\\labels\\ds2/kek/DJI_0092.png\n",
      "C:\\Users\\Владислав\\Desktop\\copterutils\\seg\\data\\labels\\ds2/kek/DJI_0093.png\n",
      "C:\\Users\\Владислав\\Desktop\\copterutils\\seg\\data\\labels\\ds2/kek/DJI_0094.png\n",
      "C:\\Users\\Владислав\\Desktop\\copterutils\\seg\\data\\labels\\ds2/kek/DJI_0095.png\n",
      "C:\\Users\\Владислав\\Desktop\\copterutils\\seg\\data\\labels\\ds2/kek/DJI_0096.png\n",
      "C:\\Users\\Владислав\\Desktop\\copterutils\\seg\\data\\labels\\ds2/kek/DJI_0097.png\n",
      "C:\\Users\\Владислав\\Desktop\\copterutils\\seg\\data\\labels\\ds2/kek/DJI_0098.png\n",
      "C:\\Users\\Владислав\\Desktop\\copterutils\\seg\\data\\labels\\ds2/kek/DJI_0099.png\n",
      "C:\\Users\\Владислав\\Desktop\\copterutils\\seg\\data\\labels\\ds2/kek/DJI_0100.png\n",
      "C:\\Users\\Владислав\\Desktop\\copterutils\\seg\\data\\labels\\ds2/kek/DJI_0102.png\n",
      "C:\\Users\\Владислав\\Desktop\\copterutils\\seg\\data\\labels\\ds2/kek/DJI_0103.png\n",
      "C:\\Users\\Владислав\\Desktop\\copterutils\\seg\\data\\labels\\ds2/kek/DJI_0104.png\n",
      "C:\\Users\\Владислав\\Desktop\\copterutils\\seg\\data\\labels\\ds2/kek/DJI_0107.png\n",
      "C:\\Users\\Владислав\\Desktop\\copterutils\\seg\\data\\labels\\ds2/kek/DJI_0108.png\n",
      "C:\\Users\\Владислав\\Desktop\\copterutils\\seg\\data\\labels\\ds2/kek/DJI_0109.png\n",
      "C:\\Users\\Владислав\\Desktop\\copterutils\\seg\\data\\labels\\ds2/kek/DJI_0110.png\n",
      "C:\\Users\\Владислав\\Desktop\\copterutils\\seg\\data\\labels\\ds2/kek/DJI_0111.png\n",
      "C:\\Users\\Владислав\\Desktop\\copterutils\\seg\\data\\labels\\ds2/kek/DJI_0112.png\n",
      "C:\\Users\\Владислав\\Desktop\\copterutils\\seg\\data\\labels\\ds2/kek/DJI_0113.png\n",
      "C:\\Users\\Владислав\\Desktop\\copterutils\\seg\\data\\labels\\ds2/kek/DJI_0114.png\n",
      "C:\\Users\\Владислав\\Desktop\\copterutils\\seg\\data\\labels\\ds2/kek/DJI_0115.png\n",
      "C:\\Users\\Владислав\\Desktop\\copterutils\\seg\\data\\labels\\ds2/kek/DJI_0116.png\n"
     ]
    }
   ],
   "source": [
    "for file in files:\n",
    "    if PNG.match(file):\n",
    "        f = image_dir.rstrip(\"/\") + \"/\" + file\n",
    "        img = PIL.open(f).convert(\"L\")\n",
    "        img.save(get_new_path(f))\n",
    "        print(get_new_path(f))"
   ]
  },
  {
   "cell_type": "code",
   "execution_count": null,
   "metadata": {},
   "outputs": [],
   "source": []
  }
 ],
 "metadata": {
  "kernelspec": {
   "display_name": "Python 3",
   "language": "python",
   "name": "python3"
  },
  "language_info": {
   "codemirror_mode": {
    "name": "ipython",
    "version": 3
   },
   "file_extension": ".py",
   "mimetype": "text/x-python",
   "name": "python",
   "nbconvert_exporter": "python",
   "pygments_lexer": "ipython3",
   "version": "3.6.1"
  }
 },
 "nbformat": 4,
 "nbformat_minor": 2
}
