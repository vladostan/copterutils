{
 "cells": [
  {
   "cell_type": "code",
   "execution_count": 1,
   "metadata": {},
   "outputs": [],
   "source": [
    "import PIL.Image as PIL\n",
    "import os, re\n",
    "import matplotlib.pyplot as plt\n",
    "%matplotlib inline"
   ]
  },
  {
   "cell_type": "code",
   "execution_count": 2,
   "metadata": {},
   "outputs": [],
   "source": [
    "def get_new_path(path):\n",
    "    basedir = os.path.dirname(path) + '/kek/'\n",
    "    if not os.path.isdir(basedir):\n",
    "        os.makedirs(basedir)\n",
    "    base, ext = os.path.splitext(os.path.basename(path))\n",
    "    file = base + ext\n",
    "\n",
    "    return basedir + base + ext"
   ]
  },
  {
   "cell_type": "code",
   "execution_count": 5,
   "metadata": {},
   "outputs": [],
   "source": [
    "PNG = re.compile(\".*\\.(png)\", re.IGNORECASE)\n",
    "\n",
    "# Images directory\n",
    "image_dir = os.path.abspath('data/labels/extras')\n",
    "\n",
    "files = os.listdir(image_dir)\n",
    "\n",
    "test = PIL.open(image_dir.rstrip(\"/\") + \"/\" + files[2]).convert(\"L\")"
   ]
  },
  {
   "cell_type": "code",
   "execution_count": 6,
   "metadata": {},
   "outputs": [
    {
     "data": {
      "text/plain": [
       "<matplotlib.image.AxesImage at 0x185467e3cf8>"
      ]
     },
     "execution_count": 6,
     "metadata": {},
     "output_type": "execute_result"
    },
    {
     "data": {
      "image/png": "[encoded data removed]",
      "text/plain": [
       "<matplotlib.figure.Figure at 0x185461d5c50>"
      ]
     },
     "metadata": {},
     "output_type": "display_data"
    }
   ],
   "source": [
    "plt.imshow(test)"
   ]
  },
  {
   "cell_type": "code",
   "execution_count": 7,
   "metadata": {},
   "outputs": [
    {
     "name": "stdout",
     "output_type": "stream",
     "text": [
      "C:\\Users\\Владислав\\Desktop\\copterutils\\seg\\data\\labels\\extras/kek/f (1).png\n",
      "C:\\Users\\Владислав\\Desktop\\copterutils\\seg\\data\\labels\\extras/kek/f (2).png\n",
      "C:\\Users\\Владислав\\Desktop\\copterutils\\seg\\data\\labels\\extras/kek/f (3).png\n",
      "C:\\Users\\Владислав\\Desktop\\copterutils\\seg\\data\\labels\\extras/kek/f (4).png\n",
      "C:\\Users\\Владислав\\Desktop\\copterutils\\seg\\data\\labels\\extras/kek/f (5).png\n",
      "C:\\Users\\Владислав\\Desktop\\copterutils\\seg\\data\\labels\\extras/kek/f (6).png\n",
      "C:\\Users\\Владислав\\Desktop\\copterutils\\seg\\data\\labels\\extras/kek/f (7).png\n",
      "C:\\Users\\Владислав\\Desktop\\copterutils\\seg\\data\\labels\\extras/kek/f (8).png\n",
      "C:\\Users\\Владислав\\Desktop\\copterutils\\seg\\data\\labels\\extras/kek/w (1).png\n",
      "C:\\Users\\Владислав\\Desktop\\copterutils\\seg\\data\\labels\\extras/kek/w (10).png\n",
      "C:\\Users\\Владислав\\Desktop\\copterutils\\seg\\data\\labels\\extras/kek/w (11).png\n",
      "C:\\Users\\Владислав\\Desktop\\copterutils\\seg\\data\\labels\\extras/kek/w (2).png\n",
      "C:\\Users\\Владислав\\Desktop\\copterutils\\seg\\data\\labels\\extras/kek/w (3).png\n",
      "C:\\Users\\Владислав\\Desktop\\copterutils\\seg\\data\\labels\\extras/kek/w (4).png\n",
      "C:\\Users\\Владислав\\Desktop\\copterutils\\seg\\data\\labels\\extras/kek/w (5).png\n",
      "C:\\Users\\Владислав\\Desktop\\copterutils\\seg\\data\\labels\\extras/kek/w (6).png\n",
      "C:\\Users\\Владислав\\Desktop\\copterutils\\seg\\data\\labels\\extras/kek/w (7).png\n",
      "C:\\Users\\Владислав\\Desktop\\copterutils\\seg\\data\\labels\\extras/kek/w (8).png\n",
      "C:\\Users\\Владислав\\Desktop\\copterutils\\seg\\data\\labels\\extras/kek/w (9).png\n"
     ]
    }
   ],
   "source": [
    "for file in files:\n",
    "    if PNG.match(file):\n",
    "        f = image_dir.rstrip(\"/\") + \"/\" + file\n",
    "        img = PIL.open(f).convert(\"L\")\n",
    "        img.save(get_new_path(f))\n",
    "        print(get_new_path(f))"
   ]
  },
  {
   "cell_type": "code",
   "execution_count": null,
   "metadata": {},
   "outputs": [],
   "source": []
  }
 ],
 "metadata": {
  "kernelspec": {
   "display_name": "Python 3",
   "language": "python",
   "name": "python3"
  },
  "language_info": {
   "codemirror_mode": {
    "name": "ipython",
    "version": 3
   },
   "file_extension": ".py",
   "mimetype": "text/x-python",
   "name": "python",
   "nbconvert_exporter": "python",
   "pygments_lexer": "ipython3",
   "version": "3.6.1"
  }
 },
 "nbformat": 4,
 "nbformat_minor": 2
}
