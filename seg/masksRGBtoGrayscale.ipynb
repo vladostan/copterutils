{
 "cells": [
  {
   "cell_type": "code",
   "execution_count": 1,
   "metadata": {},
   "outputs": [],
   "source": [
    "import PIL.Image as PIL\n",
    "import os, re\n",
    "import matplotlib.pyplot as plt\n",
    "%matplotlib inline"
   ]
  },
  {
   "cell_type": "code",
   "execution_count": 2,
   "metadata": {},
   "outputs": [],
   "source": [
    "def get_new_path(path):\n",
    "    basedir = os.path.dirname(path) + '/grayscale/'\n",
    "    if not os.path.isdir(basedir):\n",
    "        os.makedirs(basedir)\n",
    "    base, ext = os.path.splitext(os.path.basename(path))\n",
    "    file = base + ext\n",
    "\n",
    "    return basedir + base + ext"
   ]
  },
  {
   "cell_type": "code",
   "execution_count": 3,
   "metadata": {},
   "outputs": [],
   "source": [
    "PNG = re.compile(\".*\\.(png)\", re.IGNORECASE)\n",
    "\n",
    "# Images directory\n",
    "image_dir = \"D:\\Kamaz\\Segmentation from copter\\data\\masks_machine\"\n",
    "\n",
    "files = os.listdir(image_dir)\n",
    "\n",
    "test = PIL.open(image_dir.rstrip(\"/\") + \"/\" + files[0]).convert(\"L\")"
   ]
  },
  {
   "cell_type": "code",
   "execution_count": 4,
   "metadata": {},
   "outputs": [
    {
     "data": {
      "text/plain": [
       "<matplotlib.image.AxesImage at 0x1d2a85aefd0>"
      ]
     },
     "execution_count": 4,
     "metadata": {},
     "output_type": "execute_result"
    },
    {
     "data": {
      "image/png": "[encoded data removed]",
      "text/plain": [
       "<matplotlib.figure.Figure at 0x1d2b95d7240>"
      ]
     },
     "metadata": {},
     "output_type": "display_data"
    }
   ],
   "source": [
    "plt.imshow(test)"
   ]
  },
  {
   "cell_type": "code",
   "execution_count": 5,
   "metadata": {},
   "outputs": [
    {
     "name": "stdout",
     "output_type": "stream",
     "text": [
      "D:\\Kamaz\\Segmentation from copter\\data\\masks_machine/grayscale/1529573994.png\n",
      "D:\\Kamaz\\Segmentation from copter\\data\\masks_machine/grayscale/1529574004.png\n",
      "D:\\Kamaz\\Segmentation from copter\\data\\masks_machine/grayscale/1529574008.png\n",
      "D:\\Kamaz\\Segmentation from copter\\data\\masks_machine/grayscale/1529574022.png\n",
      "D:\\Kamaz\\Segmentation from copter\\data\\masks_machine/grayscale/1529574034.png\n",
      "D:\\Kamaz\\Segmentation from copter\\data\\masks_machine/grayscale/1529574048.png\n",
      "D:\\Kamaz\\Segmentation from copter\\data\\masks_machine/grayscale/1529574062.png\n",
      "D:\\Kamaz\\Segmentation from copter\\data\\masks_machine/grayscale/1529574073.png\n",
      "D:\\Kamaz\\Segmentation from copter\\data\\masks_machine/grayscale/1529574095.png\n",
      "D:\\Kamaz\\Segmentation from copter\\data\\masks_machine/grayscale/1529574133.png\n",
      "D:\\Kamaz\\Segmentation from copter\\data\\masks_machine/grayscale/1529574204.png\n",
      "D:\\Kamaz\\Segmentation from copter\\data\\masks_machine/grayscale/1529574207.png\n",
      "D:\\Kamaz\\Segmentation from copter\\data\\masks_machine/grayscale/1529574232.png\n",
      "D:\\Kamaz\\Segmentation from copter\\data\\masks_machine/grayscale/1529574243.png\n",
      "D:\\Kamaz\\Segmentation from copter\\data\\masks_machine/grayscale/1529574274.png\n",
      "D:\\Kamaz\\Segmentation from copter\\data\\masks_machine/grayscale/1529574303.png\n",
      "D:\\Kamaz\\Segmentation from copter\\data\\masks_machine/grayscale/1529574309.png\n",
      "D:\\Kamaz\\Segmentation from copter\\data\\masks_machine/grayscale/1529574312.png\n",
      "D:\\Kamaz\\Segmentation from copter\\data\\masks_machine/grayscale/1529574340.png\n",
      "D:\\Kamaz\\Segmentation from copter\\data\\masks_machine/grayscale/1529574347.png\n",
      "D:\\Kamaz\\Segmentation from copter\\data\\masks_machine/grayscale/1529574354.png\n",
      "D:\\Kamaz\\Segmentation from copter\\data\\masks_machine/grayscale/1529574362.png\n",
      "D:\\Kamaz\\Segmentation from copter\\data\\masks_machine/grayscale/1529574373.png\n",
      "D:\\Kamaz\\Segmentation from copter\\data\\masks_machine/grayscale/1529574381.png\n",
      "D:\\Kamaz\\Segmentation from copter\\data\\masks_machine/grayscale/1529574388.png\n",
      "D:\\Kamaz\\Segmentation from copter\\data\\masks_machine/grayscale/1529574396.png\n",
      "D:\\Kamaz\\Segmentation from copter\\data\\masks_machine/grayscale/1529574405.png\n",
      "D:\\Kamaz\\Segmentation from copter\\data\\masks_machine/grayscale/1529574407.png\n",
      "D:\\Kamaz\\Segmentation from copter\\data\\masks_machine/grayscale/1529574415.png\n",
      "D:\\Kamaz\\Segmentation from copter\\data\\masks_machine/grayscale/1529574421.png\n",
      "D:\\Kamaz\\Segmentation from copter\\data\\masks_machine/grayscale/1529574429.png\n",
      "D:\\Kamaz\\Segmentation from copter\\data\\masks_machine/grayscale/1529574433.png\n",
      "D:\\Kamaz\\Segmentation from copter\\data\\masks_machine/grayscale/1529574439.png\n",
      "D:\\Kamaz\\Segmentation from copter\\data\\masks_machine/grayscale/1529574449.png\n",
      "D:\\Kamaz\\Segmentation from copter\\data\\masks_machine/grayscale/1529574453.png\n",
      "D:\\Kamaz\\Segmentation from copter\\data\\masks_machine/grayscale/1529574467.png\n",
      "D:\\Kamaz\\Segmentation from copter\\data\\masks_machine/grayscale/1529574479.png\n",
      "D:\\Kamaz\\Segmentation from copter\\data\\masks_machine/grayscale/1529574489.png\n",
      "D:\\Kamaz\\Segmentation from copter\\data\\masks_machine/grayscale/1529574502.png\n",
      "D:\\Kamaz\\Segmentation from copter\\data\\masks_machine/grayscale/1529574534.png\n",
      "D:\\Kamaz\\Segmentation from copter\\data\\masks_machine/grayscale/1529574552.png\n",
      "D:\\Kamaz\\Segmentation from copter\\data\\masks_machine/grayscale/1529574578.png\n",
      "D:\\Kamaz\\Segmentation from copter\\data\\masks_machine/grayscale/1529912032.86.png\n",
      "D:\\Kamaz\\Segmentation from copter\\data\\masks_machine/grayscale/1529912032.png\n",
      "D:\\Kamaz\\Segmentation from copter\\data\\masks_machine/grayscale/1529912033.png\n",
      "D:\\Kamaz\\Segmentation from copter\\data\\masks_machine/grayscale/1529912038.png\n",
      "D:\\Kamaz\\Segmentation from copter\\data\\masks_machine/grayscale/1529912039.png\n",
      "D:\\Kamaz\\Segmentation from copter\\data\\masks_machine/grayscale/1529912041.png\n",
      "D:\\Kamaz\\Segmentation from copter\\data\\masks_machine/grayscale/1529912043.png\n",
      "D:\\Kamaz\\Segmentation from copter\\data\\masks_machine/grayscale/1529912045.png\n",
      "D:\\Kamaz\\Segmentation from copter\\data\\masks_machine/grayscale/1529912048.png\n",
      "D:\\Kamaz\\Segmentation from copter\\data\\masks_machine/grayscale/1529912054.png\n",
      "D:\\Kamaz\\Segmentation from copter\\data\\masks_machine/grayscale/1529912059.png\n",
      "D:\\Kamaz\\Segmentation from copter\\data\\masks_machine/grayscale/1529912065.png\n",
      "D:\\Kamaz\\Segmentation from copter\\data\\masks_machine/grayscale/1529912067.png\n",
      "D:\\Kamaz\\Segmentation from copter\\data\\masks_machine/grayscale/1529912070.png\n",
      "D:\\Kamaz\\Segmentation from copter\\data\\masks_machine/grayscale/1529912086.png\n",
      "D:\\Kamaz\\Segmentation from copter\\data\\masks_machine/grayscale/1529912093.png\n",
      "D:\\Kamaz\\Segmentation from copter\\data\\masks_machine/grayscale/1529912104.png\n",
      "D:\\Kamaz\\Segmentation from copter\\data\\masks_machine/grayscale/1529912108.png\n",
      "D:\\Kamaz\\Segmentation from copter\\data\\masks_machine/grayscale/1529912111.png\n",
      "D:\\Kamaz\\Segmentation from copter\\data\\masks_machine/grayscale/1529912115.png\n",
      "D:\\Kamaz\\Segmentation from copter\\data\\masks_machine/grayscale/1529912119.png\n",
      "D:\\Kamaz\\Segmentation from copter\\data\\masks_machine/grayscale/1529912122.png\n",
      "D:\\Kamaz\\Segmentation from copter\\data\\masks_machine/grayscale/1529912125.png\n",
      "D:\\Kamaz\\Segmentation from copter\\data\\masks_machine/grayscale/1529912128.png\n",
      "D:\\Kamaz\\Segmentation from copter\\data\\masks_machine/grayscale/1529912131.png\n",
      "D:\\Kamaz\\Segmentation from copter\\data\\masks_machine/grayscale/1529912135.png\n",
      "D:\\Kamaz\\Segmentation from copter\\data\\masks_machine/grayscale/1529912140.png\n",
      "D:\\Kamaz\\Segmentation from copter\\data\\masks_machine/grayscale/1529912145.png\n",
      "D:\\Kamaz\\Segmentation from copter\\data\\masks_machine/grayscale/1529912153.png\n",
      "D:\\Kamaz\\Segmentation from copter\\data\\masks_machine/grayscale/1529912156.png\n",
      "D:\\Kamaz\\Segmentation from copter\\data\\masks_machine/grayscale/1529912158.png\n",
      "D:\\Kamaz\\Segmentation from copter\\data\\masks_machine/grayscale/1529912165.png\n",
      "D:\\Kamaz\\Segmentation from copter\\data\\masks_machine/grayscale/1529912179.png\n",
      "D:\\Kamaz\\Segmentation from copter\\data\\masks_machine/grayscale/1529912186.png\n",
      "D:\\Kamaz\\Segmentation from copter\\data\\masks_machine/grayscale/1529912204.png\n",
      "D:\\Kamaz\\Segmentation from copter\\data\\masks_machine/grayscale/1529912214.png\n",
      "D:\\Kamaz\\Segmentation from copter\\data\\masks_machine/grayscale/1529912224.png\n",
      "D:\\Kamaz\\Segmentation from copter\\data\\masks_machine/grayscale/1529912285.png\n"
     ]
    }
   ],
   "source": [
    "for file in files:\n",
    "    if PNG.match(file):\n",
    "        f = image_dir.rstrip(\"/\") + \"/\" + file\n",
    "        img = PIL.open(f).convert(\"L\")\n",
    "        img.save(get_new_path(f))\n",
    "        print(get_new_path(f))"
   ]
  }
 ],
 "metadata": {
  "kernelspec": {
   "display_name": "Python 3",
   "language": "python",
   "name": "python3"
  },
  "language_info": {
   "codemirror_mode": {
    "name": "ipython",
    "version": 3
   },
   "file_extension": ".py",
   "mimetype": "text/x-python",
   "name": "python",
   "nbconvert_exporter": "python",
   "pygments_lexer": "ipython3",
   "version": "3.6.1"
  }
 },
 "nbformat": 4,
 "nbformat_minor": 2
}
