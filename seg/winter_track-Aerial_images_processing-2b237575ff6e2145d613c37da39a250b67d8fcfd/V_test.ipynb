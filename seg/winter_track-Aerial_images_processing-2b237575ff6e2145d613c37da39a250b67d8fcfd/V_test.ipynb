{
 "cells": [
  {
   "cell_type": "code",
   "execution_count": 11,
   "metadata": {},
   "outputs": [],
   "source": [
    "import numpy as np\n",
    "import nrrd\n",
    "import matplotlib.pyplot as plt\n",
    "%matplotlib inline\n",
    "\n",
    "data = nrrd.read(\"test.nrrd\")[0]\n",
    "\n",
    "red = np.empty([1024, 1280])\n",
    "green = np.empty([1024, 1280])\n",
    "blue = np.empty([1024, 1280])\n",
    "types = np.zeros(12)"
   ]
  },
  {
   "cell_type": "code",
   "execution_count": 21,
   "metadata": {},
   "outputs": [
    {
     "data": {
      "text/plain": [
       "array([[0., 0., 0., ..., 0., 0., 0.],\n",
       "       [1., 0., 0., ..., 0., 0., 0.],\n",
       "       [1., 1., 0., ..., 0., 0., 0.],\n",
       "       ...,\n",
       "       [0., 0., 0., ..., 0., 0., 0.],\n",
       "       [0., 0., 0., ..., 0., 0., 0.],\n",
       "       [0., 0., 1., ..., 1., 0., 1.]])"
      ]
     },
     "execution_count": 21,
     "metadata": {},
     "output_type": "execute_result"
    }
   ],
   "source": [
    "data[:,:,0]"
   ]
  },
  {
   "cell_type": "code",
   "execution_count": 23,
   "metadata": {},
   "outputs": [
    {
     "data": {
      "text/plain": [
       "<matplotlib.image.AxesImage at 0x18ba36507b8>"
      ]
     },
     "execution_count": 23,
     "metadata": {},
     "output_type": "execute_result"
    },
    {
     "data": {
      "image/png": "[encoded data removed]",
      "text/plain": [
       "<Figure size 432x288 with 1 Axes>"
      ]
     },
     "metadata": {},
     "output_type": "display_data"
    }
   ],
   "source": [
    "plt.imshow()\n",
    "plt.imshow(data[:,:,0])"
   ]
  },
  {
   "cell_type": "code",
   "execution_count": null,
   "metadata": {},
   "outputs": [],
   "source": []
  },
  {
   "cell_type": "code",
   "execution_count": null,
   "metadata": {},
   "outputs": [],
   "source": []
  },
  {
   "cell_type": "code",
   "execution_count": null,
   "metadata": {},
   "outputs": [],
   "source": []
  },
  {
   "cell_type": "code",
   "execution_count": null,
   "metadata": {},
   "outputs": [],
   "source": []
  },
  {
   "cell_type": "code",
   "execution_count": null,
   "metadata": {},
   "outputs": [],
   "source": []
  },
  {
   "cell_type": "code",
   "execution_count": null,
   "metadata": {},
   "outputs": [],
   "source": []
  },
  {
   "cell_type": "code",
   "execution_count": null,
   "metadata": {},
   "outputs": [],
   "source": []
  },
  {
   "cell_type": "code",
   "execution_count": 2,
   "metadata": {},
   "outputs": [
    {
     "data": {
      "text/plain": [
       "array([0., 0., 0., ..., 1., 0., 1.])"
      ]
     },
     "execution_count": 2,
     "metadata": {},
     "output_type": "execute_result"
    }
   ],
   "source": [
    "data.flatten()"
   ]
  },
  {
   "cell_type": "code",
   "execution_count": 3,
   "metadata": {},
   "outputs": [],
   "source": [
    "for i in range (0, 1024):\n",
    "    for j in range (0, 1280):\n",
    "        if data[i][j][0] == 1:\n",
    "            red[i][j] = 255\n",
    "            green[i][j] = 0\n",
    "            blue[i][j] = 0\n",
    "            types[0] += 1\n",
    "        if data[i][j][0] == 2:\n",
    "            red[i][j] = 0\n",
    "            green[i][j] = 255\n",
    "            blue[i][j] = 0\n",
    "            types[1] += 1\n",
    "        if data[i][j][0] == 3:\n",
    "            red[i][j] = 0\n",
    "            green[i][j] = 0\n",
    "            blue[i][j] = 255\n",
    "            types[2] += 1\n",
    "        if data[i][j][0] == 4:\n",
    "            red[i][j] = 255\n",
    "            green[i][j] = 255\n",
    "            blue[i][j] = 255\n",
    "            types[3] += 1\n",
    "        if data[i][j][0] == 5:\n",
    "            red[i][j] = 150\n",
    "            green[i][j] = 255\n",
    "            blue[i][j] = 155\n",
    "            types[4] += 1\n",
    "        if data[i][j][0] == 6:\n",
    "            red[i][j] = 165\n",
    "            green[i][j] = 42\n",
    "            blue[i][j] = 42\n",
    "            types[5] += 1\n",
    "        if data[i][j][0] == 7:\n",
    "            red[i][j] = 100\n",
    "            green[i][j] = 200\n",
    "            blue[i][j] = 55\n",
    "            types[6] += 1\n",
    "        if data[i][j][0] == 8:\n",
    "            red[i][j] = 255\n",
    "            green[i][j] = 255\n",
    "            blue[i][j] = 0\n",
    "            types[7] += 1\n",
    "        if data[i][j][0] == 9:\n",
    "            red[i][j] = 0\n",
    "            green[i][j] = 0\n",
    "            blue[i][j] = 0\n",
    "            types[8] += 1\n",
    "        if data[i][j][0] == 10:\n",
    "            red[i][j] = 255\n",
    "            green[i][j] = 192\n",
    "            blue[i][j] = 203\n",
    "            types[9] += 1\n",
    "        if data[i][j][0] == 11:\n",
    "            red[i][j] = 0\n",
    "            green[i][j] = 255\n",
    "            blue[i][j] = 255\n",
    "            types[10] += 1\n",
    "        if data[i][j][0] == 12:\n",
    "            red[i][j] = 165\n",
    "            green[i][j] = 42\n",
    "            blue[i][j] = 65\n",
    "            types[11] += 1\n"
   ]
  },
  {
   "cell_type": "code",
   "execution_count": null,
   "metadata": {},
   "outputs": [],
   "source": [
    "image = np.concatenate([arr[np.newaxis] for arr in [red, green, blue]]).transpose([1, 2, 0])\n",
    "print(image.shape)\n",
    "print(types)\n",
    "misc.imsave(\"my.jpg\", image)"
   ]
  }
 ],
 "metadata": {
  "kernelspec": {
   "display_name": "Python 3",
   "language": "python",
   "name": "python3"
  },
  "language_info": {
   "codemirror_mode": {
    "name": "ipython",
    "version": 3
   },
   "file_extension": ".py",
   "mimetype": "text/x-python",
   "name": "python",
   "nbconvert_exporter": "python",
   "pygments_lexer": "ipython3",
   "version": "3.6.5"
  }
 },
 "nbformat": 4,
 "nbformat_minor": 2
}
