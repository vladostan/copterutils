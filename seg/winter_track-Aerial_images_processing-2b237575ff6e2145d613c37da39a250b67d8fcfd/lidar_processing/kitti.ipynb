{
 "cells": [
  {
   "cell_type": "code",
   "execution_count": null,
   "metadata": {},
   "outputs": [],
   "source": [
    "import numpy as np\n",
    "import pykitti\n",
    "import os\n",
    "import glob2\n",
    "import sys\n",
    "sys.path.insert(0, '../')\n",
    "from common.lidar import *"
   ]
  },
  {
   "cell_type": "code",
   "execution_count": null,
   "metadata": {},
   "outputs": [],
   "source": [
    "%pylab inline"
   ]
  },
  {
   "cell_type": "code",
   "execution_count": null,
   "metadata": {
    "collapsed": true
   },
   "outputs": [],
   "source": [
    "root_dir = '/fasthome/cvlab/RDC/kitty_road_lane'\n",
    "lidar_dir = os.path.join(root_dir,'data_road_velodyne')"
   ]
  },
  {
   "cell_type": "code",
   "execution_count": null,
   "metadata": {},
   "outputs": [],
   "source": [
    "lidar_paths = sorted(glob2.glob(lidar_dir + '/**/*.*'))"
   ]
  },
  {
   "cell_type": "code",
   "execution_count": null,
   "metadata": {},
   "outputs": [],
   "source": [
    "scan = load_velo_scan(lidar_paths[3])"
   ]
  },
  {
   "cell_type": "code",
   "execution_count": null,
   "metadata": {},
   "outputs": [],
   "source": [
    "figure(figsize=(10,10),facecolor='white')\n",
    "imshow(birds_eye_point_cloud(scan,(-30,30),(-30,30)),cmap='jet')"
   ]
  }
 ],
 "metadata": {
  "kernelspec": {
   "display_name": "Python [conda env:roadar]",
   "language": "python",
   "name": "conda-env-roadar-py"
  },
  "language_info": {
   "codemirror_mode": {
    "name": "ipython",
    "version": 3
   },
   "file_extension": ".py",
   "mimetype": "text/x-python",
   "name": "python",
   "nbconvert_exporter": "python",
   "pygments_lexer": "ipython3",
   "version": "3.6.3"
  }
 },
 "nbformat": 4,
 "nbformat_minor": 2
}
