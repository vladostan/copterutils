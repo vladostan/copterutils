{
 "cells": [
  {
   "cell_type": "code",
   "execution_count": null,
   "metadata": {},
   "outputs": [],
   "source": [
    "%pylab inline"
   ]
  },
  {
   "cell_type": "code",
   "execution_count": null,
   "metadata": {},
   "outputs": [],
   "source": [
    "import sys\n",
    "import os\n",
    "os.environ['CUDA_VISIBLE_DEVICES'] = '0'\n",
    "sys.path.insert(0, '../')\n",
    "import numpy as np\n",
    "import cv2\n",
    "import keras\n",
    "import pandas as pd\n",
    "import datetime\n",
    "from tqdm import tqdm\n",
    "from glob2 import glob"
   ]
  },
  {
   "cell_type": "code",
   "execution_count": null,
   "metadata": {},
   "outputs": [],
   "source": [
    "from common.utils import *\n",
    "from common.nn import *\n",
    "from common.eval import *\n",
    "import common"
   ]
  },
  {
   "cell_type": "code",
   "execution_count": null,
   "metadata": {},
   "outputs": [],
   "source": [
    "from collections import defaultdict\n"
   ]
  },
  {
   "cell_type": "markdown",
   "metadata": {},
   "source": [
    "## Params"
   ]
  },
  {
   "cell_type": "code",
   "execution_count": null,
   "metadata": {},
   "outputs": [],
   "source": [
    "resolutions = [[64*i,192*i] for i in range(1,5)]\n",
    "boundary_only =  False"
   ]
  },
  {
   "cell_type": "code",
   "execution_count": null,
   "metadata": {},
   "outputs": [],
   "source": [
    "## Data Paths"
   ]
  },
  {
   "cell_type": "code",
   "execution_count": null,
   "metadata": {},
   "outputs": [],
   "source": [
    "DATA_ROOT = '/home/a.gabdullin/datasets/'\n",
    "TRAIN_DIR = DATA_ROOT+'/SegDataSet_Cityscape_Kitti_Kia_Wilddash/'\n",
    "im_paths = np.array(glob(TRAIN_DIR + 'resized_image/'  +  '*.*'))\n",
    "masks_paths = np.array(glob(TRAIN_DIR + 'resized_label/' +  '*.*'))\n",
    "kia_idx = in_filename(im_paths)\n",
    "kia_match = np.ones(len(im_paths), dtype=bool)\n",
    "kia_match[kia_idx] = False\n",
    "kia_im_paths = im_paths[kia_idx]\n",
    "kia_mask_paths = masks_paths[kia_idx]\n",
    "im_paths = im_paths[kia_match]\n",
    "masks_paths = masks_paths[kia_match]\n",
    "\n",
    "im_paths_train, im_paths_val, masks_paths_train,masks_paths_val = train_test_split(im_paths, masks_paths,\n",
    "                                                                                   random_state=42,test_size=0.1)"
   ]
  },
  {
   "cell_type": "markdown",
   "metadata": {},
   "source": [
    "## Eval Time Perfomance"
   ]
  },
  {
   "cell_type": "code",
   "execution_count": null,
   "metadata": {},
   "outputs": [],
   "source": [
    "total = []"
   ]
  },
  {
   "cell_type": "code",
   "execution_count": null,
   "metadata": {},
   "outputs": [],
   "source": [
    "eval_time = True\n",
    "if eval_time:\n",
    "    nets = {}\n",
    "    total = []\n",
    "    n_channels=3\n",
    "    for j in range(len(resolutions)):\n",
    "        input_shape = resolutions[j]  + [3]\n",
    "        print(input_shape)\n",
    "        n_rows,n_cols = resolutions[j]\n",
    "        im_shape = (n_rows,n_cols)\n",
    "        X_ = np.array([imread_and_resize(e,im_shape,n_channels == 3) for e in tqdm(im_paths_val,ascii=True)])\n",
    "        for i in range(3,10):\n",
    "            nets ={}\n",
    "            try:\n",
    "                nets[0] = get_custom_unet(input_shape=input_shape,n_conv=8,bottle_idx=i)\n",
    "                nets[1] = get_custom_mobunetV1(input_shape=input_shape,n_conv=8,bottle_idx=i)\n",
    "                nets[2] = get_custom_sepunet(input_shape=input_shape,n_conv=8,bottle_idx=i)\n",
    "                t0,t1 = inference_time(nets[0],X_),inference_time(nets[1],X_)\n",
    "                t2 = inference_time(nets[2],X_)\n",
    "                total.append([input_shape,8,i,t0[1],t1[1],t2[1]])\n",
    "            except:\n",
    "                total.append([input_shape,8,i,None,None])"
   ]
  },
  {
   "cell_type": "code",
   "execution_count": null,
   "metadata": {},
   "outputs": [],
   "source": [
    "pd.DataFrame(total,\n",
    "                 columns=['resolution','n_conv','net-depth','t_unet','t_mobunetV1','t_sepunet'])"
   ]
  }
 ],
 "metadata": {
  "kernelspec": {
   "display_name": "Python 3",
   "language": "python",
   "name": "python3"
  },
  "language_info": {
   "codemirror_mode": {
    "name": "ipython",
    "version": 3
   },
   "file_extension": ".py",
   "mimetype": "text/x-python",
   "name": "python",
   "nbconvert_exporter": "python",
   "pygments_lexer": "ipython3",
   "version": "3.6.4"
  }
 },
 "nbformat": 4,
 "nbformat_minor": 2
}
