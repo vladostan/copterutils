{
 "cells": [
  {
   "cell_type": "code",
   "execution_count": null,
   "metadata": {},
   "outputs": [],
   "source": [
    "%pylab inline"
   ]
  },
  {
   "cell_type": "code",
   "execution_count": null,
   "metadata": {},
   "outputs": [],
   "source": [
    "import sys\n",
    "import os\n",
    "os.environ['CUDA_VISIBLE_DEVICES'] = '0'\n",
    "sys.path.insert(0, '../')"
   ]
  },
  {
   "cell_type": "code",
   "execution_count": null,
   "metadata": {},
   "outputs": [],
   "source": [
    "import keras\n",
    "from common.nn import *\n",
    "from common.eval import *\n",
    "from common.utils import *"
   ]
  },
  {
   "cell_type": "code",
   "execution_count": null,
   "metadata": {},
   "outputs": [],
   "source": [
    "from common.utils import imread_and_resize_sk as imread_and_resize\n",
    "from common.utils import depthread_and_resize_cv2 as depthread_and_resize"
   ]
  },
  {
   "cell_type": "code",
   "execution_count": null,
   "metadata": {},
   "outputs": [],
   "source": [
    "import numpy as np\n",
    "import scipy as sp\n",
    "import cv2\n",
    "import datetime\n",
    "from tqdm import tqdm\n",
    "from glob2 import glob\n",
    "from sklearn.model_selection import train_test_split"
   ]
  },
  {
   "cell_type": "code",
   "execution_count": null,
   "metadata": {},
   "outputs": [],
   "source": [
    "resolutions = [(64*i,192*i) for i in range(1,7)]"
   ]
  },
  {
   "cell_type": "code",
   "execution_count": null,
   "metadata": {},
   "outputs": [],
   "source": [
    "n_rows,n_cols = resolutions[0]\n",
    "im_shape = (n_rows,n_cols)\n",
    "n_channels = 3\n",
    "input_shape = (n_rows,n_cols,n_channels)"
   ]
  },
  {
   "cell_type": "code",
   "execution_count": null,
   "metadata": {},
   "outputs": [],
   "source": [
    "(n_rows,n_cols,n_channels)"
   ]
  },
  {
   "cell_type": "code",
   "execution_count": null,
   "metadata": {},
   "outputs": [],
   "source": [
    "boundary_only =  False"
   ]
  },
  {
   "cell_type": "code",
   "execution_count": null,
   "metadata": {},
   "outputs": [],
   "source": [
    "def parse_vkitti(TRAIN_DIR = '/home/ksozykin/datasets/vkitti',top_k = None,shuffle=True):\n",
    "    im_paths,masks_paths,depth_paths = [],[],[]\n",
    "    for i in \"0001,0002,0006,0018,0020\".split(','):\n",
    "        im_paths += glob(TRAIN_DIR + ('/vkitti_1.3.1_rgb/%s/**/'  +  '*.png') % i)\n",
    "        masks_paths += glob(TRAIN_DIR + ('/vkitti_1.3.1_scenegt/%s/**/' +  '*.png') % i)\n",
    "        depth_paths += glob(TRAIN_DIR + ('/vkitti_1.3.1_depthgt/%s/**/' +  '*.png') % i)\n",
    "    im_paths,masks_paths = sorted(im_paths),sorted(masks_paths)\n",
    "    im_paths,masks_paths = np.array(im_paths),np.array(masks_paths)\n",
    "    if shuffle:\n",
    "        ridx = np.random.permutation(len(im_paths))\n",
    "        im_paths,masks_paths = im_paths[ridx],masks_paths[ridx]\n",
    "    if top_k is None:\n",
    "        return (im_paths,masks_paths,depth_paths)  \n",
    "    else:  \n",
    "        return (im_paths[:top_k],masks_paths[:top_k],depth_paths[:top_k])"
   ]
  },
  {
   "cell_type": "code",
   "execution_count": null,
   "metadata": {},
   "outputs": [],
   "source": [
    "im_paths,masks_paths,depth_paths, = parse_vkitti(top_k=18000)"
   ]
  },
  {
   "cell_type": "code",
   "execution_count": null,
   "metadata": {},
   "outputs": [],
   "source": [
    "splited = train_test_split(im_paths, masks_paths, depth_paths, random_state=42,test_size=0.1)\n",
    "im_paths_train, im_paths_val, masks_paths_train,masks_paths_val, depth_paths_train, depth_paths_val = splited\n",
    "\n",
    "X_train = np.array([imread_and_resize(e,im_shape,n_channels == 3) for e in tqdm(im_paths_train)])\n",
    "y_train = np.array([imread_and_resize(e,im_shape,False) for e in tqdm(masks_paths_train)])\n",
    "D_train = np.array([depthread_and_resize(e,im_shape) for e in tqdm(depth_paths_train)])\n",
    "X_val = np.array([imread_and_resize(e,im_shape,n_channels == 3) for e in tqdm(im_paths_val)])\n",
    "D_val = np.array([depthread_and_resize(e,im_shape) for e in tqdm(depth_paths_val)])\n",
    "y_val = np.array([imread_and_resize(e,im_shape,False) for e in tqdm(masks_paths_val)])\n",
    "y_train,y_val = binarize_mask(y_train,target_label=71),binarize_mask(y_val,target_label=71)\n",
    "if boundary_only:\n",
    "    y_train = np.array([boundary_mask(e) for e in y_train])\n",
    "    y_val = np.array([boundary_mask(e) for e in y_val])"
   ]
  },
  {
   "cell_type": "code",
   "execution_count": null,
   "metadata": {},
   "outputs": [],
   "source": [
    "stacked = False"
   ]
  },
  {
   "cell_type": "code",
   "execution_count": null,
   "metadata": {},
   "outputs": [],
   "source": [
    "if stacked:\n",
    "    X_train = np.concatenate([X_train,np.expand_dims(D_train,-1)],axis=-1)\n",
    "    X_val = np.concatenate([X_val,np.expand_dims(D_val,-1)],axis=-1)"
   ]
  },
  {
   "cell_type": "code",
   "execution_count": null,
   "metadata": {},
   "outputs": [],
   "source": [
    "im = X_train[15][:,:,:3].astype('uint8')\n",
    "imshow(im[...,::-1])\n",
    "imshow(y_train[15],cmap='jet',alpha=0.4)"
   ]
  },
  {
   "cell_type": "code",
   "execution_count": null,
   "metadata": {},
   "outputs": [],
   "source": [
    "input_shape = X_train.shape[1:]"
   ]
  },
  {
   "cell_type": "code",
   "execution_count": null,
   "metadata": {},
   "outputs": [],
   "source": [
    "net = get_custom_unet(input_shape=input_shape,n_conv=4,act='elu',bottle_idx=7)\n",
    "history = []"
   ]
  },
  {
   "cell_type": "code",
   "execution_count": null,
   "metadata": {},
   "outputs": [],
   "source": [
    "net.summary()"
   ]
  },
  {
   "cell_type": "code",
   "execution_count": null,
   "metadata": {},
   "outputs": [],
   "source": [
    "losses=[dice_crossentopy_loss]\n",
    "metrics = [f1_score,dice_coef]\n",
    "net.compile(optimizer=keras.optimizers.Adam(lr=0.0002),\n",
    "                  loss = losses,metrics=metrics)\n",
    "history.append(net.fit((X_train).astype('float32'),expand(y_train).astype('float32'),\n",
    "                       validation_data=((X_val).astype('float32'),expand(y_val).astype('float32')),\n",
    "    epochs=5,\n",
    "    initial_epoch=0,\n",
    "    batch_size=2,\n",
    "    verbose=1\n",
    "))"
   ]
  },
  {
   "cell_type": "markdown",
   "metadata": {},
   "source": [
    "## Validation"
   ]
  },
  {
   "cell_type": "code",
   "execution_count": null,
   "metadata": {},
   "outputs": [],
   "source": [
    "pred_probs = net.predict(X_val,batch_size=16,verbose=1)"
   ]
  },
  {
   "cell_type": "code",
   "execution_count": null,
   "metadata": {},
   "outputs": [],
   "source": [
    "pred_probs = squeeze(pred_probs)"
   ]
  },
  {
   "cell_type": "code",
   "execution_count": null,
   "metadata": {},
   "outputs": [],
   "source": [
    "masks_pred = (pred_probs > 0.5).astype('uint8')"
   ]
  },
  {
   "cell_type": "code",
   "execution_count": null,
   "metadata": {},
   "outputs": [],
   "source": [
    "ridx = np.random.permutation(len(X_val))\n",
    "#ridx = np.arange(len(X_val))\n",
    "\n",
    "figure(facecolor='white')\n",
    "plt.figure(figsize=(35,35),facecolor='white')\n",
    "k = 0\n",
    "for fr_idx in range(16):\n",
    "    j = ridx[k]\n",
    "    plt.subplot(8, 2, fr_idx+1,facecolor='white')\n",
    "    plt.gca().xaxis.set_visible(False)    \n",
    "    plt.gca().yaxis.set_visible(False)\n",
    "    im = X_val[j][:,:,:3].astype('uint8') if stacked else X_val[j].astype('uint8')\n",
    "    if fr_idx % 2 == 0:\n",
    "        title('%sth frame labels' % k,fontsize=25)\n",
    "        imshow(im[...,::-1])\n",
    "        imshow(y_val[j],cmap='jet',alpha=0.4)\n",
    "    else:\n",
    "        title('%sth frame prediction' % k,fontsize=25)\n",
    "        imshow(im[...,::-1])\n",
    "        imshow(masks_pred[j].astype('uint8'),cmap='jet',alpha=0.4)\n",
    "        k += 1"
   ]
  },
  {
   "cell_type": "code",
   "execution_count": null,
   "metadata": {},
   "outputs": [],
   "source": []
  }
 ],
 "metadata": {
  "kernelspec": {
   "display_name": "Python 3",
   "language": "python",
   "name": "python3"
  },
  "language_info": {
   "codemirror_mode": {
    "name": "ipython",
    "version": 3
   },
   "file_extension": ".py",
   "mimetype": "text/x-python",
   "name": "python",
   "nbconvert_exporter": "python",
   "pygments_lexer": "ipython3",
   "version": "3.6.5"
  }
 },
 "nbformat": 4,
 "nbformat_minor": 2
}
