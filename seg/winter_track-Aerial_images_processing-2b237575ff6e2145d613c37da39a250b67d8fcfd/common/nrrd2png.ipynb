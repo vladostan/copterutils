{
 "cells": [
  {
   "cell_type": "code",
   "execution_count": 3,
   "metadata": {},
   "outputs": [],
   "source": [
    "import nrrd\n",
    "import numpy as np\n",
    "import matplotlib.pyplot as plt\n",
    "import cv2\n",
    "\n",
    "%matplotlib inline"
   ]
  },
  {
   "cell_type": "code",
   "execution_count": 8,
   "metadata": {},
   "outputs": [],
   "source": [
    "from os import listdir\n",
    "from os.path import isfile, join\n",
    "\n",
    "mypath = 'labels'\n",
    "labels_names = [f for f in listdir(mypath) if isfile(join(mypath, f))]"
   ]
  },
  {
   "cell_type": "code",
   "execution_count": 6,
   "metadata": {},
   "outputs": [
    {
     "data": {
      "text/plain": [
       "'1529573994.nrrd'"
      ]
     },
     "execution_count": 6,
     "metadata": {},
     "output_type": "execute_result"
    }
   ],
   "source": [
    "labels_names[0]"
   ]
  },
  {
   "cell_type": "code",
   "execution_count": 25,
   "metadata": {},
   "outputs": [],
   "source": [
    "import scipy.misc as smp\n",
    "from PIL import Image\n",
    "from scipy import misc"
   ]
  },
  {
   "cell_type": "code",
   "execution_count": 11,
   "metadata": {},
   "outputs": [],
   "source": [
    "labels = []\n",
    "\n",
    "for i in range(0, len(labels_names)): # load images form dataset to array\n",
    "    labels.append(nrrd.read(\"labels/\" + labels_names[i])[0].transpose([1, 0, 2]))"
   ]
  },
  {
   "cell_type": "code",
   "execution_count": 17,
   "metadata": {},
   "outputs": [
    {
     "data": {
      "text/plain": [
       "numpy.ndarray"
      ]
     },
     "execution_count": 17,
     "metadata": {},
     "output_type": "execute_result"
    }
   ],
   "source": [
    "type(labels[0].flatten())"
   ]
  },
  {
   "cell_type": "code",
   "execution_count": 20,
   "metadata": {},
   "outputs": [],
   "source": [
    "m = np.asmatrix(labels[0])"
   ]
  },
  {
   "cell_type": "code",
   "execution_count": 24,
   "metadata": {},
   "outputs": [
    {
     "data": {
      "text/plain": [
       "3"
      ]
     },
     "execution_count": 24,
     "metadata": {},
     "output_type": "execute_result"
    }
   ],
   "source": [
    "m[0,0]"
   ]
  },
  {
   "cell_type": "code",
   "execution_count": 70,
   "metadata": {},
   "outputs": [],
   "source": [
    "def nrrd2pngsaver(data, name):\n",
    "\n",
    "    red = np.empty([1024, 1280])\n",
    "    green = np.empty([1024, 1280])\n",
    "    blue = np.empty([1024, 1280])\n",
    "\n",
    "    for i in range (0, 1024):\n",
    "        for j in range (0, 1280):\n",
    "            if data[i][j][0] == 1:\n",
    "                red[i][j] = 255\n",
    "                green[i][j] = 0\n",
    "                blue[i][j] = 0\n",
    "            if data[i][j][0] == 2:\n",
    "                red[i][j] = 0\n",
    "                green[i][j] = 255\n",
    "                blue[i][j] = 0\n",
    "            if data[i][j][0] == 3:\n",
    "                red[i][j] = 0\n",
    "                green[i][j] = 0\n",
    "                blue[i][j] = 255\n",
    "            if data[i][j][0] == 4:\n",
    "                red[i][j] = 255\n",
    "                green[i][j] = 255\n",
    "                blue[i][j] = 255\n",
    "            if data[i][j][0] == 5:\n",
    "                red[i][j] = 150\n",
    "                green[i][j] = 255\n",
    "                blue[i][j] = 155\n",
    "            if data[i][j][0] == 6:\n",
    "                red[i][j] = 165\n",
    "                green[i][j] = 42\n",
    "                blue[i][j] = 42\n",
    "            if data[i][j][0] == 7:\n",
    "                red[i][j] = 100\n",
    "                green[i][j] = 200\n",
    "                blue[i][j] = 55\n",
    "            if data[i][j][0] == 8:\n",
    "                red[i][j] = 255\n",
    "                green[i][j] = 255\n",
    "                blue[i][j] = 0\n",
    "            if data[i][j][0] == 9:\n",
    "                red[i][j] = 0\n",
    "                green[i][j] = 0\n",
    "                blue[i][j] = 0\n",
    "            if data[i][j][0] == 10:\n",
    "                red[i][j] = 255\n",
    "                green[i][j] = 192\n",
    "                blue[i][j] = 203\n",
    "            if data[i][j][0] == 11:\n",
    "                red[i][j] = 0\n",
    "                green[i][j] = 255\n",
    "                blue[i][j] = 255\n",
    "            if data[i][j][0] == 12:\n",
    "                red[i][j] = 165\n",
    "                green[i][j] = 0\n",
    "                blue[i][j] = 0\n",
    "\n",
    "    image = np.concatenate([arr[np.newaxis] for arr in [red, green, blue]]).transpose([1, 2, 0])\n",
    "    misc.imsave(name.split('.nrrd')[0] + \".png\", image)\n"
   ]
  },
  {
   "cell_type": "code",
   "execution_count": 66,
   "metadata": {},
   "outputs": [
    {
     "data": {
      "text/plain": [
       "'1529573994.png'"
      ]
     },
     "execution_count": 66,
     "metadata": {},
     "output_type": "execute_result"
    }
   ],
   "source": [
    "name = labels_names[0].split('.nrrd')[0] + \".png\"\n",
    "name"
   ]
  },
  {
   "cell_type": "code",
   "execution_count": 58,
   "metadata": {},
   "outputs": [
    {
     "data": {
      "text/plain": [
       "3"
      ]
     },
     "execution_count": 58,
     "metadata": {},
     "output_type": "execute_result"
    }
   ],
   "source": [
    "data[0][0][0]"
   ]
  },
  {
   "cell_type": "code",
   "execution_count": null,
   "metadata": {},
   "outputs": [],
   "source": []
  },
  {
   "cell_type": "code",
   "execution_count": 42,
   "metadata": {},
   "outputs": [
    {
     "data": {
      "text/plain": [
       "<matplotlib.image.AxesImage at 0x1d90a21a7f0>"
      ]
     },
     "execution_count": 42,
     "metadata": {},
     "output_type": "execute_result"
    },
    {
     "data": {
      "image/png": "[encoded data removed]",
      "text/plain": [
       "<matplotlib.figure.Figure at 0x1d90a19beb8>"
      ]
     },
     "metadata": {},
     "output_type": "display_data"
    }
   ],
   "source": [
    "plt.imshow(image)"
   ]
  },
  {
   "cell_type": "code",
   "execution_count": 45,
   "metadata": {},
   "outputs": [
    {
     "name": "stderr",
     "output_type": "stream",
     "text": [
      "D:\\Anaconda\\lib\\site-packages\\ipykernel_launcher.py:1: DeprecationWarning: `imsave` is deprecated!\n",
      "`imsave` is deprecated in SciPy 1.0.0, and will be removed in 1.2.0.\n",
      "Use ``imageio.imwrite`` instead.\n",
      "  \"\"\"Entry point for launching an IPython kernel.\n"
     ]
    }
   ],
   "source": [
    "misc.imsave(\"myqwas.png\", image)\n"
   ]
  },
  {
   "cell_type": "code",
   "execution_count": 71,
   "metadata": {},
   "outputs": [
    {
     "name": "stderr",
     "output_type": "stream",
     "text": [
      "D:\\Anaconda\\lib\\site-packages\\ipykernel_launcher.py:59: DeprecationWarning: `imsave` is deprecated!\n",
      "`imsave` is deprecated in SciPy 1.0.0, and will be removed in 1.2.0.\n",
      "Use ``imageio.imwrite`` instead.\n"
     ]
    }
   ],
   "source": [
    "for i in range(len(labels)):\n",
    "    nrrd2pngsaver(labels[i], labels_names[i])"
   ]
  },
  {
   "cell_type": "code",
   "execution_count": 53,
   "metadata": {},
   "outputs": [
    {
     "data": {
      "text/plain": [
       "80"
      ]
     },
     "execution_count": 53,
     "metadata": {},
     "output_type": "execute_result"
    }
   ],
   "source": []
  },
  {
   "cell_type": "code",
   "execution_count": null,
   "metadata": {},
   "outputs": [],
   "source": []
  }
 ],
 "metadata": {
  "kernelspec": {
   "display_name": "Python 3",
   "language": "python",
   "name": "python3"
  },
  "language_info": {
   "codemirror_mode": {
    "name": "ipython",
    "version": 3
   },
   "file_extension": ".py",
   "mimetype": "text/x-python",
   "name": "python",
   "nbconvert_exporter": "python",
   "pygments_lexer": "ipython3",
   "version": "3.6.1"
  }
 },
 "nbformat": 4,
 "nbformat_minor": 2
}
