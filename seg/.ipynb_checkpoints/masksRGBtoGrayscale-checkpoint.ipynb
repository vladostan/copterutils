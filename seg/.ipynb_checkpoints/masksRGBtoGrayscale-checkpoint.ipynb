{
 "cells": [
  {
   "cell_type": "code",
   "execution_count": 6,
   "metadata": {},
   "outputs": [],
   "source": [
    "import PIL.Image as PIL\n",
    "import os, re\n",
    "import matplotlib.pyplot as plt\n",
    "%matplotlib inline"
   ]
  },
  {
   "cell_type": "code",
   "execution_count": 7,
   "metadata": {},
   "outputs": [],
   "source": [
    "def get_new_path(path):\n",
    "    basedir = os.path.dirname(path) + '/labels/'\n",
    "    if not os.path.isdir(basedir):\n",
    "        os.makedirs(basedir)\n",
    "    base, ext = os.path.splitext(os.path.basename(path))\n",
    "    file = base + ext\n",
    "\n",
    "    return basedir + base + ext"
   ]
  },
  {
   "cell_type": "code",
   "execution_count": 8,
   "metadata": {},
   "outputs": [],
   "source": [
    "PNG = re.compile(\".*\\.(png)\", re.IGNORECASE)\n",
    "\n",
    "# Images directory\n",
    "image_dir = \"/home/kenny/Desktop/copterutils/seg/data/masks_machine\"\n",
    "\n",
    "files = os.listdir(image_dir)\n",
    "\n",
    "test = PIL.open(image_dir.rstrip(\"/\") + \"/\" + files[0]).convert(\"L\")"
   ]
  },
  {
   "cell_type": "code",
   "execution_count": 9,
   "metadata": {},
   "outputs": [
    {
     "data": {
      "text/plain": [
       "<matplotlib.image.AxesImage at 0x7f22d05e81d0>"
      ]
     },
     "execution_count": 9,
     "metadata": {},
     "output_type": "execute_result"
    },
    {
     "data": {
      "image/png": "[encoded data removed]",
      "text/plain": [
       "<Figure size 432x288 with 1 Axes>"
      ]
     },
     "metadata": {},
     "output_type": "display_data"
    }
   ],
   "source": [
    "plt.imshow(test)"
   ]
  },
  {
   "cell_type": "code",
   "execution_count": 10,
   "metadata": {},
   "outputs": [
    {
     "name": "stdout",
     "output_type": "stream",
     "text": [
      "/home/kenny/Desktop/copterutils/seg/data/masks_machine/labels/1529574396.png\n",
      "/home/kenny/Desktop/copterutils/seg/data/masks_machine/labels/1529574405.png\n",
      "/home/kenny/Desktop/copterutils/seg/data/masks_machine/labels/1529574415.png\n",
      "/home/kenny/Desktop/copterutils/seg/data/masks_machine/labels/1529912115.png\n",
      "/home/kenny/Desktop/copterutils/seg/data/masks_machine/labels/1529912065.png\n",
      "/home/kenny/Desktop/copterutils/seg/data/masks_machine/labels/1529574552.png\n",
      "/home/kenny/Desktop/copterutils/seg/data/masks_machine/labels/1529574502.png\n",
      "/home/kenny/Desktop/copterutils/seg/data/masks_machine/labels/1529574467.png\n",
      "/home/kenny/Desktop/copterutils/seg/data/masks_machine/labels/1529912156.png\n",
      "/home/kenny/Desktop/copterutils/seg/data/masks_machine/labels/1529574381.png\n",
      "/home/kenny/Desktop/copterutils/seg/data/masks_machine/labels/1529912145.png\n",
      "/home/kenny/Desktop/copterutils/seg/data/masks_machine/labels/1529912224.png\n",
      "/home/kenny/Desktop/copterutils/seg/data/masks_machine/labels/1529912285.png\n",
      "/home/kenny/Desktop/copterutils/seg/data/masks_machine/labels/1529912059.png\n",
      "/home/kenny/Desktop/copterutils/seg/data/masks_machine/labels/1529574453.png\n",
      "/home/kenny/Desktop/copterutils/seg/data/masks_machine/labels/1529574062.png\n",
      "/home/kenny/Desktop/copterutils/seg/data/masks_machine/labels/1529912045.png\n",
      "/home/kenny/Desktop/copterutils/seg/data/masks_machine/labels/1529574479.png\n",
      "/home/kenny/Desktop/copterutils/seg/data/masks_machine/labels/1529912093.png\n",
      "/home/kenny/Desktop/copterutils/seg/data/masks_machine/labels/1529912067.png\n",
      "/home/kenny/Desktop/copterutils/seg/data/masks_machine/labels/1529912108.png\n",
      "/home/kenny/Desktop/copterutils/seg/data/masks_machine/labels/1529574388.png\n",
      "/home/kenny/Desktop/copterutils/seg/data/masks_machine/labels/1529574449.png\n",
      "/home/kenny/Desktop/copterutils/seg/data/masks_machine/labels/1529574429.png\n",
      "/home/kenny/Desktop/copterutils/seg/data/masks_machine/labels/1529574207.png\n",
      "/home/kenny/Desktop/copterutils/seg/data/masks_machine/labels/1529574073.png\n",
      "/home/kenny/Desktop/copterutils/seg/data/masks_machine/labels/1529574243.png\n",
      "/home/kenny/Desktop/copterutils/seg/data/masks_machine/labels/1529912158.png\n",
      "/home/kenny/Desktop/copterutils/seg/data/masks_machine/labels/1529912104.png\n",
      "/home/kenny/Desktop/copterutils/seg/data/masks_machine/labels/1529912119.png\n",
      "/home/kenny/Desktop/copterutils/seg/data/masks_machine/labels/1529574309.png\n",
      "/home/kenny/Desktop/copterutils/seg/data/masks_machine/labels/1529912204.png\n",
      "/home/kenny/Desktop/copterutils/seg/data/masks_machine/labels/1529912032.86.png\n",
      "/home/kenny/Desktop/copterutils/seg/data/masks_machine/labels/1529912038.png\n",
      "/home/kenny/Desktop/copterutils/seg/data/masks_machine/labels/1529912070.png\n",
      "/home/kenny/Desktop/copterutils/seg/data/masks_machine/labels/1529574312.png\n",
      "/home/kenny/Desktop/copterutils/seg/data/masks_machine/labels/1529574008.png\n",
      "/home/kenny/Desktop/copterutils/seg/data/masks_machine/labels/1529574373.png\n",
      "/home/kenny/Desktop/copterutils/seg/data/masks_machine/labels/1529912122.png\n",
      "/home/kenny/Desktop/copterutils/seg/data/masks_machine/labels/1529574095.png\n",
      "/home/kenny/Desktop/copterutils/seg/data/masks_machine/labels/1529574362.png\n",
      "/home/kenny/Desktop/copterutils/seg/data/masks_machine/labels/1529574489.png\n",
      "/home/kenny/Desktop/copterutils/seg/data/masks_machine/labels/1529574034.png\n",
      "/home/kenny/Desktop/copterutils/seg/data/masks_machine/labels/1529574274.png\n",
      "/home/kenny/Desktop/copterutils/seg/data/masks_machine/labels/1529912111.png\n",
      "/home/kenny/Desktop/copterutils/seg/data/masks_machine/labels/1529574578.png\n",
      "/home/kenny/Desktop/copterutils/seg/data/masks_machine/labels/1529912140.png\n",
      "/home/kenny/Desktop/copterutils/seg/data/masks_machine/labels/1529574534.png\n",
      "/home/kenny/Desktop/copterutils/seg/data/masks_machine/labels/1529912043.png\n",
      "/home/kenny/Desktop/copterutils/seg/data/masks_machine/labels/1529912032.png\n",
      "/home/kenny/Desktop/copterutils/seg/data/masks_machine/labels/1529912131.png\n",
      "/home/kenny/Desktop/copterutils/seg/data/masks_machine/labels/1529574340.png\n",
      "/home/kenny/Desktop/copterutils/seg/data/masks_machine/labels/1529912033.png\n",
      "/home/kenny/Desktop/copterutils/seg/data/masks_machine/labels/1529574354.png\n",
      "/home/kenny/Desktop/copterutils/seg/data/masks_machine/labels/1529574204.png\n",
      "/home/kenny/Desktop/copterutils/seg/data/masks_machine/labels/1529574421.png\n",
      "/home/kenny/Desktop/copterutils/seg/data/masks_machine/labels/1529574407.png\n",
      "/home/kenny/Desktop/copterutils/seg/data/masks_machine/labels/1529574133.png\n",
      "/home/kenny/Desktop/copterutils/seg/data/masks_machine/labels/1529573994.png\n",
      "/home/kenny/Desktop/copterutils/seg/data/masks_machine/labels/1529574439.png\n",
      "/home/kenny/Desktop/copterutils/seg/data/masks_machine/labels/1529912086.png\n",
      "/home/kenny/Desktop/copterutils/seg/data/masks_machine/labels/1529912054.png\n",
      "/home/kenny/Desktop/copterutils/seg/data/masks_machine/labels/1529912153.png\n",
      "/home/kenny/Desktop/copterutils/seg/data/masks_machine/labels/1529574303.png\n",
      "/home/kenny/Desktop/copterutils/seg/data/masks_machine/labels/1529912135.png\n",
      "/home/kenny/Desktop/copterutils/seg/data/masks_machine/labels/1529574433.png\n",
      "/home/kenny/Desktop/copterutils/seg/data/masks_machine/labels/1529574022.png\n",
      "/home/kenny/Desktop/copterutils/seg/data/masks_machine/labels/1529912039.png\n",
      "/home/kenny/Desktop/copterutils/seg/data/masks_machine/labels/1529912214.png\n",
      "/home/kenny/Desktop/copterutils/seg/data/masks_machine/labels/1529574004.png\n",
      "/home/kenny/Desktop/copterutils/seg/data/masks_machine/labels/1529912186.png\n",
      "/home/kenny/Desktop/copterutils/seg/data/masks_machine/labels/1529912048.png\n",
      "/home/kenny/Desktop/copterutils/seg/data/masks_machine/labels/1529574048.png\n",
      "/home/kenny/Desktop/copterutils/seg/data/masks_machine/labels/1529912179.png\n",
      "/home/kenny/Desktop/copterutils/seg/data/masks_machine/labels/1529574347.png\n",
      "/home/kenny/Desktop/copterutils/seg/data/masks_machine/labels/1529912128.png\n",
      "/home/kenny/Desktop/copterutils/seg/data/masks_machine/labels/1529912125.png\n",
      "/home/kenny/Desktop/copterutils/seg/data/masks_machine/labels/1529574232.png\n",
      "/home/kenny/Desktop/copterutils/seg/data/masks_machine/labels/1529912041.png\n",
      "/home/kenny/Desktop/copterutils/seg/data/masks_machine/labels/1529912165.png\n"
     ]
    }
   ],
   "source": [
    "for file in files:\n",
    "    if PNG.match(file):\n",
    "        f = image_dir.rstrip(\"/\") + \"/\" + file\n",
    "        img = PIL.open(f).convert(\"L\")\n",
    "        img.save(get_new_path(f))\n",
    "        print(get_new_path(f))"
   ]
  }
 ],
 "metadata": {
  "kernelspec": {
   "display_name": "Python 3",
   "language": "python",
   "name": "python3"
  },
  "language_info": {
   "codemirror_mode": {
    "name": "ipython",
    "version": 3
   },
   "file_extension": ".py",
   "mimetype": "text/x-python",
   "name": "python",
   "nbconvert_exporter": "python",
   "pygments_lexer": "ipython3",
   "version": "3.6.5"
  }
 },
 "nbformat": 4,
 "nbformat_minor": 2
}
