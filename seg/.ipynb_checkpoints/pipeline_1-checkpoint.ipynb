{
 "cells": [
  {
   "cell_type": "code",
   "execution_count": null,
   "metadata": {},
   "outputs": [],
   "source": [
    "!jupyter nbconvert --to script pipeline_1.ipynb"
   ]
  },
  {
   "cell_type": "code",
   "execution_count": 1,
   "metadata": {},
   "outputs": [],
   "source": [
    "import os\n",
    "import matplotlib.pylab as plt\n",
    "from glob import glob\n",
    "import numpy as np\n",
    "import PIL.Image as PIL"
   ]
  },
  {
   "cell_type": "markdown",
   "metadata": {},
   "source": [
    "# READ IMAGES AND MASKS"
   ]
  },
  {
   "cell_type": "code",
   "execution_count": 2,
   "metadata": {},
   "outputs": [],
   "source": [
    "PATH = os.path.abspath('data')\n",
    "\n",
    "SOURCE_IMAGES = os.path.join(PATH, \"images/resized\")\n",
    "\n",
    "images = glob(os.path.join(SOURCE_IMAGES, \"*.jpg\"))\n",
    "\n",
    "SOURCE_LABELS = os.path.join(PATH, \"labels/resized\")\n",
    "\n",
    "labels = glob(os.path.join(SOURCE_LABELS, \"*.png\"))"
   ]
  },
  {
   "cell_type": "code",
   "execution_count": 3,
   "metadata": {},
   "outputs": [],
   "source": [
    "images.sort()\n",
    "labels.sort()"
   ]
  },
  {
   "cell_type": "code",
   "execution_count": 4,
   "metadata": {},
   "outputs": [
    {
     "name": "stdout",
     "output_type": "stream",
     "text": [
      "143\n",
      "143\n"
     ]
    }
   ],
   "source": [
    "print(np.size(images))\n",
    "print(np.size(labels))"
   ]
  },
  {
   "cell_type": "code",
   "execution_count": 5,
   "metadata": {},
   "outputs": [],
   "source": [
    "x = [] # images\n",
    "y = [] # labels\n",
    "\n",
    "for img in images:\n",
    "    full_size_image = plt.imread(img)\n",
    "    x.append(full_size_image)\n",
    "\n",
    "for lbl in labels:\n",
    "    full_size_label = plt.imread(lbl,0)\n",
    "    y.append(full_size_label)"
   ]
  },
  {
   "cell_type": "code",
   "execution_count": 6,
   "metadata": {},
   "outputs": [],
   "source": [
    "x = np.asarray(x)\n",
    "y = np.asarray(y)"
   ]
  },
  {
   "cell_type": "code",
   "execution_count": 7,
   "metadata": {},
   "outputs": [
    {
     "name": "stdout",
     "output_type": "stream",
     "text": [
      "0\n",
      "8\n",
      "(143, 512, 640, 3)\n",
      "(143, 512, 640)\n"
     ]
    }
   ],
   "source": [
    "print(y.min())\n",
    "print(y.max())\n",
    "print(x.shape)\n",
    "print(y.shape)"
   ]
  },
  {
   "cell_type": "markdown",
   "metadata": {},
   "source": [
    "### Class weighting"
   ]
  },
  {
   "cell_type": "code",
   "execution_count": 8,
   "metadata": {},
   "outputs": [],
   "source": [
    "n = np.bincount(y.reshape(y.shape[0]*y.shape[1]*y.shape[2]))"
   ]
  },
  {
   "cell_type": "code",
   "execution_count": 9,
   "metadata": {},
   "outputs": [
    {
     "name": "stdout",
     "output_type": "stream",
     "text": [
      "[  1.86392404   5.15891122   6.30790017   9.78089019  43.13697868\n",
      "  15.90755223   8.05691379   9.28942487   0.49750481] %\n"
     ]
    }
   ],
   "source": [
    "print(str(n/n.sum()*100) + \" %\")"
   ]
  },
  {
   "cell_type": "code",
   "execution_count": 10,
   "metadata": {},
   "outputs": [],
   "source": [
    "cs = ['background','asphalt', 'building', 'forest', 'grass', 'ground', 'roadAsphalt', 'roadGround', 'water']"
   ]
  },
  {
   "cell_type": "code",
   "execution_count": 11,
   "metadata": {},
   "outputs": [
    {
     "data": {
      "text/plain": [
       "<matplotlib.axes._subplots.AxesSubplot at 0x1f8bd29ff60>"
      ]
     },
     "execution_count": 11,
     "metadata": {},
     "output_type": "execute_result"
    },
    {
     "data": {
      "image/png": "[encoded data removed]",
      "text/plain": [
       "<matplotlib.figure.Figure at 0x1f8bd2987f0>"
      ]
     },
     "metadata": {},
     "output_type": "display_data"
    }
   ],
   "source": [
    "import seaborn as sns\n",
    "\n",
    "sns.barplot(x=cs, y=n)"
   ]
  },
  {
   "cell_type": "code",
   "execution_count": 12,
   "metadata": {},
   "outputs": [],
   "source": [
    "cw = np.median(n)/n"
   ]
  },
  {
   "cell_type": "code",
   "execution_count": 13,
   "metadata": {},
   "outputs": [
    {
     "data": {
      "text/plain": [
       "<matplotlib.axes._subplots.AxesSubplot at 0x1f8bf3e4ac8>"
      ]
     },
     "execution_count": 13,
     "metadata": {},
     "output_type": "execute_result"
    },
    {
     "data": {
      "image/png": "[encoded data removed]",
      "text/plain": [
       "<matplotlib.figure.Figure at 0x1f8bf3ee780>"
      ]
     },
     "metadata": {},
     "output_type": "display_data"
    }
   ],
   "source": [
    "sns.barplot(x=cs, y=n*cw)"
   ]
  },
  {
   "cell_type": "code",
   "execution_count": 14,
   "metadata": {},
   "outputs": [
    {
     "data": {
      "text/plain": [
       "array([  4.32255479,   1.56174694,   1.27727351,   0.82374034,\n",
       "         0.18677511,   0.50648357,   1.        ,   0.86732106,  16.19464486])"
      ]
     },
     "execution_count": 14,
     "metadata": {},
     "output_type": "execute_result"
    }
   ],
   "source": [
    "class_weights = dict(enumerate(cw))\n",
    "class_weighting = np.fromiter(class_weights.values(), dtype=float)\n",
    "class_weighting"
   ]
  },
  {
   "cell_type": "markdown",
   "metadata": {},
   "source": [
    "# Convert one mask to N classes masks"
   ]
  },
  {
   "cell_type": "code",
   "execution_count": 15,
   "metadata": {},
   "outputs": [],
   "source": [
    "#Convert batch of masks from 1 to N of classes\n",
    "def one_to_n(y,n):\n",
    "    n_images, h, w = y.shape\n",
    "    y = y.reshape([n_images, h*w])\n",
    "    temp = np.zeros(np.append(y.shape,n_classes),dtype='int')\n",
    "    for i in range (n_images):\n",
    "        for j in range(h*w):\n",
    "            temp[i,j,(y[i,j])] = 1\n",
    "    return temp.reshape([n_images,h,w,n])\n",
    "\n",
    "def n_to_one(y):\n",
    "    n_images, h, w, n = y.shape\n",
    "    y = y.reshape([n_images, h*w, n])\n",
    "    temp = np.zeros([n_images, h*w],dtype='int')\n",
    "    for i in range (n_images):\n",
    "        for j in range(h*w):\n",
    "            temp[i,j] = np.argmax(y[i,j])\n",
    "    return temp.reshape([n_images,h,w])"
   ]
  },
  {
   "cell_type": "code",
   "execution_count": null,
   "metadata": {},
   "outputs": [],
   "source": [
    "n_classes = len(cs)\n",
    "y = one_to_n(y,n_classes)\n",
    "# y = n_to_one(y)\n",
    "y.shape"
   ]
  },
  {
   "cell_type": "code",
   "execution_count": null,
   "metadata": {},
   "outputs": [],
   "source": [
    "nrows, ncols = 3,3\n",
    "fig, axes = plt.subplots(nrows=3, ncols=3)\n",
    "fig.set_size_inches(15,10)\n",
    "cl = 0\n",
    "im = 59\n",
    "for i in range(nrows):\n",
    "    for j in range(ncols):\n",
    "        axes[i,j].imshow(y[im,:,:,cl], cmap='gray')\n",
    "        axes[i,j].set_title(cs[cl])\n",
    "        axes[i,j].grid(None)\n",
    "        cl += 1\n",
    "     \n",
    "fig.tight_layout()"
   ]
  },
  {
   "cell_type": "code",
   "execution_count": null,
   "metadata": {},
   "outputs": [],
   "source": [
    "# x = x/255"
   ]
  },
  {
   "cell_type": "code",
   "execution_count": null,
   "metadata": {},
   "outputs": [],
   "source": [
    "y = y.reshape([y.shape[0], y.shape[1]*y.shape[2],y.shape[3]])\n",
    "y.shape"
   ]
  },
  {
   "cell_type": "markdown",
   "metadata": {},
   "source": [
    "# Prepare for training"
   ]
  },
  {
   "cell_type": "code",
   "execution_count": null,
   "metadata": {},
   "outputs": [],
   "source": [
    "from sklearn.model_selection import train_test_split"
   ]
  },
  {
   "cell_type": "code",
   "execution_count": null,
   "metadata": {},
   "outputs": [],
   "source": [
    "x_train, x_test, y_train, y_test = train_test_split(x,y, test_size=0.2, random_state=1)"
   ]
  },
  {
   "cell_type": "code",
   "execution_count": null,
   "metadata": {},
   "outputs": [],
   "source": [
    "print(x_train.shape)\n",
    "print(y_train.shape)\n",
    "print(x_test.shape)\n",
    "print(y_test.shape)"
   ]
  },
  {
   "cell_type": "code",
   "execution_count": null,
   "metadata": {},
   "outputs": [],
   "source": [
    "from keras.preprocessing.image import ImageDataGenerator\n",
    "from keras import layers, models, optimizers\n",
    "from keras import backend as K"
   ]
  },
  {
   "cell_type": "code",
   "execution_count": null,
   "metadata": {},
   "outputs": [],
   "source": [
    "import tensorflow as tf"
   ]
  },
  {
   "cell_type": "code",
   "execution_count": null,
   "metadata": {},
   "outputs": [],
   "source": [
    "K.image_data_format()"
   ]
  },
  {
   "cell_type": "code",
   "execution_count": null,
   "metadata": {},
   "outputs": [],
   "source": [
    "img_height, img_width = x_train.shape[1:3]\n",
    "nb_train_samples = len(x_train)\n",
    "nb_test_samples = len(x_test)"
   ]
  },
  {
   "cell_type": "code",
   "execution_count": null,
   "metadata": {},
   "outputs": [],
   "source": [
    "epochs = 1\n",
    "batch_size = 1"
   ]
  },
  {
   "cell_type": "code",
   "execution_count": null,
   "metadata": {},
   "outputs": [],
   "source": [
    "train_datagen = ImageDataGenerator(rescale=1. / 255, horizontal_flip=True, rotation_range=30)\n",
    "test_datagen = ImageDataGenerator(rescale=1. / 255)"
   ]
  },
  {
   "cell_type": "code",
   "execution_count": null,
   "metadata": {},
   "outputs": [],
   "source": [
    "train_generator = train_datagen.flow(x_train, y_train, batch_size=batch_size)\n",
    "test_generator = test_datagen.flow(x_test, y_test, batch_size=batch_size)"
   ]
  },
  {
   "cell_type": "code",
   "execution_count": null,
   "metadata": {},
   "outputs": [],
   "source": [
    "from keras.callbacks import ReduceLROnPlateau\n",
    "\n",
    "reduce_lr = ReduceLROnPlateau(monitor='val_loss', factor=0.2,\n",
    "                              patience=10, min_lr=0.001)"
   ]
  },
  {
   "cell_type": "code",
   "execution_count": null,
   "metadata": {},
   "outputs": [],
   "source": []
  },
  {
   "cell_type": "code",
   "execution_count": null,
   "metadata": {},
   "outputs": [],
   "source": []
  },
  {
   "cell_type": "code",
   "execution_count": null,
   "metadata": {},
   "outputs": [],
   "source": [
    "history = model.fit_generator(\n",
    "    train_generator, \n",
    "    steps_per_epoch=nb_train_samples // batch_size,\n",
    "    epochs=epochs,\n",
    "    validation_data=test_generator,\n",
    "    validation_steps=nb_test_samples // batch_size,\n",
    "    verbose = 1,\n",
    "    class_weight = class_weighting\n",
    ")"
   ]
  },
  {
   "cell_type": "code",
   "execution_count": null,
   "metadata": {},
   "outputs": [],
   "source": []
  },
  {
   "cell_type": "code",
   "execution_count": null,
   "metadata": {},
   "outputs": [],
   "source": []
  },
  {
   "cell_type": "markdown",
   "metadata": {},
   "source": [
    "# Define model"
   ]
  },
  {
   "cell_type": "markdown",
   "metadata": {},
   "source": [
    "# U-Net"
   ]
  },
  {
   "cell_type": "code",
   "execution_count": null,
   "metadata": {},
   "outputs": [],
   "source": [
    "import skimage.io as io\n",
    "import skimage.transform as trans\n",
    "from keras.models import *\n",
    "from keras.layers import *\n",
    "from keras.optimizers import *\n",
    "from keras.layers.merge import concatenate\n",
    "from keras.callbacks import ModelCheckpoint, LearningRateScheduler\n",
    "\n",
    "def unet(pretrained_weights = None, input_size = (256,320,3), n_classes = 9):\n",
    "    inputs = Input(input_size)\n",
    "    conv1 = Conv2D(64, 3, activation = 'relu', padding = 'same', kernel_initializer = 'he_normal')(inputs)\n",
    "    conv1 = Conv2D(64, 3, activation = 'relu', padding = 'same', kernel_initializer = 'he_normal')(conv1)\n",
    "    pool1 = MaxPooling2D(pool_size=(2, 2))(conv1)\n",
    "    conv2 = Conv2D(128, 3, activation = 'relu', padding = 'same', kernel_initializer = 'he_normal')(pool1)\n",
    "    conv2 = Conv2D(128, 3, activation = 'relu', padding = 'same', kernel_initializer = 'he_normal')(conv2)\n",
    "    pool2 = MaxPooling2D(pool_size=(2, 2))(conv2)\n",
    "    conv3 = Conv2D(256, 3, activation = 'relu', padding = 'same', kernel_initializer = 'he_normal')(pool2)\n",
    "    conv3 = Conv2D(256, 3, activation = 'relu', padding = 'same', kernel_initializer = 'he_normal')(conv3)\n",
    "    pool3 = MaxPooling2D(pool_size=(2, 2))(conv3)\n",
    "    conv4 = Conv2D(512, 3, activation = 'relu', padding = 'same', kernel_initializer = 'he_normal')(pool3)\n",
    "    conv4 = Conv2D(512, 3, activation = 'relu', padding = 'same', kernel_initializer = 'he_normal')(conv4)\n",
    "    drop4 = Dropout(0.5)(conv4)\n",
    "    pool4 = MaxPooling2D(pool_size=(2, 2))(drop4)\n",
    "\n",
    "    conv5 = Conv2D(1024, 3, activation = 'relu', padding = 'same', kernel_initializer = 'he_normal')(pool4)\n",
    "    conv5 = Conv2D(1024, 3, activation = 'relu', padding = 'same', kernel_initializer = 'he_normal')(conv5)\n",
    "    drop5 = Dropout(0.5)(conv5)\n",
    "\n",
    "    up6 = Conv2D(512, 2, activation = 'relu', padding = 'same', kernel_initializer = 'he_normal')(UpSampling2D(size = (2,2))(drop5))\n",
    "    merge6 = concatenate([drop4,up6], axis = 3)\n",
    "    conv6 = Conv2D(512, 3, activation = 'relu', padding = 'same', kernel_initializer = 'he_normal')(merge6)\n",
    "    conv6 = Conv2D(512, 3, activation = 'relu', padding = 'same', kernel_initializer = 'he_normal')(conv6)\n",
    "\n",
    "    up7 = Conv2D(256, 2, activation = 'relu', padding = 'same', kernel_initializer = 'he_normal')(UpSampling2D(size = (2,2))(conv6))\n",
    "    merge7 = concatenate([conv3,up7], axis = 3)\n",
    "    conv7 = Conv2D(256, 3, activation = 'relu', padding = 'same', kernel_initializer = 'he_normal')(merge7)\n",
    "    conv7 = Conv2D(256, 3, activation = 'relu', padding = 'same', kernel_initializer = 'he_normal')(conv7)\n",
    "\n",
    "    up8 = Conv2D(128, 2, activation = 'relu', padding = 'same', kernel_initializer = 'he_normal')(UpSampling2D(size = (2,2))(conv7))\n",
    "    merge8 = concatenate([conv2,up8], axis = 3)\n",
    "    conv8 = Conv2D(128, 3, activation = 'relu', padding = 'same', kernel_initializer = 'he_normal')(merge8)\n",
    "    conv8 = Conv2D(128, 3, activation = 'relu', padding = 'same', kernel_initializer = 'he_normal')(conv8)\n",
    "\n",
    "    up9 = Conv2D(64, 2, activation = 'relu', padding = 'same', kernel_initializer = 'he_normal')(UpSampling2D(size = (2,2))(conv8))\n",
    "    merge9 = concatenate([conv1,up9], axis = 3)\n",
    "    conv9 = Conv2D(64, 3, activation = 'relu', padding = 'same', kernel_initializer = 'he_normal')(merge9)\n",
    "    conv9 = Conv2D(64, 3, activation = 'relu', padding = 'same', kernel_initializer = 'he_normal')(conv9)\n",
    "    \n",
    "    conv10 = Conv2D(n_classes, 3, activation = 'relu', padding = 'same', kernel_initializer = 'he_normal')(conv9)\n",
    "    conv10 = Reshape((input_size[0]*input_size[1],n_classes))(conv10)\n",
    "    conv10 = Activation('softmax')(conv10)\n",
    "    \n",
    "    model = Model(inputs = inputs, outputs = conv10)\n",
    "    \n",
    "    if(pretrained_weights):\n",
    "        model.load_weights(pretrained_weights)\n",
    "\n",
    "    return model"
   ]
  },
  {
   "cell_type": "code",
   "execution_count": null,
   "metadata": {},
   "outputs": [],
   "source": [
    "model = unet(input_size = (img_height,img_width,3), n_classes=9)\n",
    "model.compile(optimizer = 'adadelta', loss = 'categorical_crossentropy', metrics = ['accuracy'])"
   ]
  },
  {
   "cell_type": "code",
   "execution_count": null,
   "metadata": {},
   "outputs": [],
   "source": [
    "model.summary()"
   ]
  },
  {
   "cell_type": "code",
   "execution_count": null,
   "metadata": {},
   "outputs": [],
   "source": [
    "y_train_flat = y_train.reshape(y_train.shape[0],y_train.shape[1]*y_train.shape[2],y_train.shape[3])\n",
    "y_train_flat.shape"
   ]
  },
  {
   "cell_type": "code",
   "execution_count": null,
   "metadata": {},
   "outputs": [],
   "source": [
    "y_test_flat = y_test.reshape(y_test.shape[0],y_test.shape[1]*y_test.shape[2],y_test.shape[3])\n",
    "y_test_flat.shape"
   ]
  },
  {
   "cell_type": "code",
   "execution_count": null,
   "metadata": {},
   "outputs": [],
   "source": [
    "def get_tf_session():\n",
    "    gpu_options = tf.GPUOptions(allow_growth=True)\n",
    "    return tf.Session(config=tf.ConfigProto(gpu_options=gpu_options))\n",
    "K.set_session(get_tf_session())"
   ]
  },
  {
   "cell_type": "code",
   "execution_count": null,
   "metadata": {},
   "outputs": [],
   "source": []
  },
  {
   "cell_type": "code",
   "execution_count": null,
   "metadata": {},
   "outputs": [],
   "source": [
    "history = model.fit(x_train, y_train_flat, batch_size=1, epochs=10, verbose=1, class_weight=class_weighting)"
   ]
  },
  {
   "cell_type": "code",
   "execution_count": null,
   "metadata": {},
   "outputs": [],
   "source": [
    "model.save_weights('weights/model_weight_ep10.hdf5')"
   ]
  },
  {
   "cell_type": "code",
   "execution_count": null,
   "metadata": {},
   "outputs": [],
   "source": []
  },
  {
   "cell_type": "code",
   "execution_count": null,
   "metadata": {},
   "outputs": [],
   "source": [
    "score = model.evaluate(x_test, y_test_flat, batch_size = 1, verbose=1)\n",
    "print('Test score:', score[0])\n",
    "print('Test accuracy:', score[1])"
   ]
  },
  {
   "cell_type": "markdown",
   "metadata": {},
   "source": [
    "### Test pretrained model"
   ]
  },
  {
   "cell_type": "code",
   "execution_count": null,
   "metadata": {},
   "outputs": [],
   "source": [
    "model = unet(input_size = (img_height,img_width,3), n_classes=9)"
   ]
  },
  {
   "cell_type": "code",
   "execution_count": null,
   "metadata": {},
   "outputs": [],
   "source": [
    "model.load_weights('weights/model_weight_ep10.hdf5')"
   ]
  },
  {
   "cell_type": "code",
   "execution_count": null,
   "metadata": {},
   "outputs": [],
   "source": [
    "score = model.evaluate(x_test, y_test_flat, batch_size = 1, verbose=1)\n",
    "print('Test score:', score[0])\n",
    "print('Test accuracy:', score[1])"
   ]
  },
  {
   "cell_type": "code",
   "execution_count": null,
   "metadata": {},
   "outputs": [],
   "source": [
    "model.metrics_names"
   ]
  },
  {
   "cell_type": "code",
   "execution_count": null,
   "metadata": {},
   "outputs": [],
   "source": []
  },
  {
   "cell_type": "code",
   "execution_count": null,
   "metadata": {},
   "outputs": [],
   "source": [
    "y_test_pred = model.predict(x_test, batch_size = 1, verbose = 1)"
   ]
  },
  {
   "cell_type": "code",
   "execution_count": null,
   "metadata": {},
   "outputs": [],
   "source": [
    "y_test_pred.shape"
   ]
  },
  {
   "cell_type": "code",
   "execution_count": null,
   "metadata": {},
   "outputs": [],
   "source": [
    "np.argmax(y_test_pred[0,55555])"
   ]
  },
  {
   "cell_type": "code",
   "execution_count": null,
   "metadata": {},
   "outputs": [],
   "source": [
    "y_test_pred[0,0]"
   ]
  },
  {
   "cell_type": "code",
   "execution_count": null,
   "metadata": {},
   "outputs": [],
   "source": [
    "y_test_flat.dtype"
   ]
  },
  {
   "cell_type": "code",
   "execution_count": null,
   "metadata": {},
   "outputs": [],
   "source": [
    "temp = np.zeros((y_test_flat.shape[0], y_test_flat.shape[1]), dtype='int')"
   ]
  },
  {
   "cell_type": "code",
   "execution_count": null,
   "metadata": {},
   "outputs": [],
   "source": [
    "for i in range (y_test_flat.shape[0]):\n",
    "    for j in range(y_test_flat.shape[1]):\n",
    "            temp[i,j] = np.argmax(y_test_flat[i,j])\n",
    "    print(i)"
   ]
  },
  {
   "cell_type": "code",
   "execution_count": null,
   "metadata": {},
   "outputs": [],
   "source": [
    "temp_pred = np.zeros((y_test_pred.shape[0], y_test_pred.shape[1]), dtype='int')\n",
    "for i in range (y_test_pred.shape[0]):\n",
    "    for j in range(y_test_pred.shape[1]):\n",
    "            temp_pred[i,j] = np.argmax(y_test_pred[i,j])\n",
    "    print(i)"
   ]
  },
  {
   "cell_type": "code",
   "execution_count": null,
   "metadata": {},
   "outputs": [],
   "source": [
    "y_test_flat.shape"
   ]
  },
  {
   "cell_type": "code",
   "execution_count": null,
   "metadata": {},
   "outputs": [],
   "source": [
    "y_test_pred.shape"
   ]
  },
  {
   "cell_type": "code",
   "execution_count": null,
   "metadata": {},
   "outputs": [],
   "source": [
    "hex_colors = ['#000000','#4A4A4A','#FF0000', '#407700', '#00FF37', '#8B572A', '#0000FF', '#FF7600', '#50E3C2']"
   ]
  },
  {
   "cell_type": "code",
   "execution_count": null,
   "metadata": {},
   "outputs": [],
   "source": [
    "import webcolors\n",
    "\n",
    "rgb_colors = []\n",
    "\n",
    "for hex_color in hex_colors:\n",
    "    rgb_colors.append(webcolors.hex_to_rgb(hex_color))"
   ]
  },
  {
   "cell_type": "code",
   "execution_count": null,
   "metadata": {},
   "outputs": [],
   "source": [
    "def colorize(mask, colors):\n",
    "    colorMask = np.zeros([mask.shape[0], mask.shape[1], 3],dtype=np.uint8)\n",
    "    for r in range(mask.shape[0]):\n",
    "        for c in range(mask.shape[1]):\n",
    "            colorMask[r,c,] = colors[mask[r,c]]\n",
    "\n",
    "    return colorMask"
   ]
  },
  {
   "cell_type": "code",
   "execution_count": null,
   "metadata": {},
   "outputs": [],
   "source": [
    "fig, axes = plt.subplots(nrows=1, ncols=3)\n",
    "fig.set_size_inches(20,10)\n",
    "\n",
    "img = 0\n",
    "\n",
    "axes[0].imshow(x_test[img])\n",
    "axes[1].imshow(colorize(temp[img].reshape((y_test[0].shape[0], y_test[0].shape[1])), colors = np.array(rgb_colors)))\n",
    "axes[2].imshow(colorize(temp_pred[img].reshape((y_test[0].shape[0], y_test[0].shape[1])), colors = np.array(rgb_colors)))\n",
    "\n",
    "fig.tight_layout()"
   ]
  },
  {
   "cell_type": "code",
   "execution_count": null,
   "metadata": {},
   "outputs": [],
   "source": [
    "fig, axes = plt.subplots(nrows=1, ncols=3)\n",
    "fig.set_size_inches(20,10)\n",
    "\n",
    "for i in range (20):\n",
    "\n",
    "    axes[0].imshow(x_test[i])\n",
    "    axes[1].imshow(colorize(temp[i].reshape((y_test[0].shape[0], y_test[0].shape[1])), colors = np.array(rgb_colors)))\n",
    "    axes[2].imshow(colorize(temp_pred[i].reshape((y_test[0].shape[0], y_test[0].shape[1])), colors = np.array(rgb_colors)))\n",
    "    fig.tight_layout()\n",
    "    fig.savefig('img{}'.format(i))\n",
    "\n"
   ]
  },
  {
   "cell_type": "code",
   "execution_count": null,
   "metadata": {},
   "outputs": [],
   "source": [
    "y_test_flat[0].reshape(y_test[0].shape).shape"
   ]
  },
  {
   "cell_type": "code",
   "execution_count": null,
   "metadata": {},
   "outputs": [],
   "source": [
    "y_test_flat.shape"
   ]
  },
  {
   "cell_type": "code",
   "execution_count": null,
   "metadata": {},
   "outputs": [],
   "source": [
    "y_test_flat[0].reshape(y_test[0].shape).shape"
   ]
  },
  {
   "cell_type": "code",
   "execution_count": null,
   "metadata": {},
   "outputs": [],
   "source": []
  },
  {
   "cell_type": "code",
   "execution_count": null,
   "metadata": {},
   "outputs": [],
   "source": []
  },
  {
   "cell_type": "markdown",
   "metadata": {},
   "source": [
    "# Training"
   ]
  },
  {
   "cell_type": "markdown",
   "metadata": {},
   "source": [
    "# Load/Save model"
   ]
  },
  {
   "cell_type": "code",
   "execution_count": null,
   "metadata": {},
   "outputs": [],
   "source": [
    "from keras.models import load_model\n",
    "import pickle"
   ]
  },
  {
   "cell_type": "code",
   "execution_count": null,
   "metadata": {},
   "outputs": [],
   "source": [
    "model.save('model2.h5')  # creates a HDF5 file 'my_model.h5'"
   ]
  },
  {
   "cell_type": "code",
   "execution_count": null,
   "metadata": {},
   "outputs": [],
   "source": [
    "model = load_model('model1.h5')"
   ]
  },
  {
   "cell_type": "code",
   "execution_count": null,
   "metadata": {},
   "outputs": [],
   "source": [
    "with open('history2', 'wb') as file_pi:\n",
    "    pickle.dump(history.history, file_pi)"
   ]
  },
  {
   "cell_type": "code",
   "execution_count": null,
   "metadata": {},
   "outputs": [],
   "source": [
    "history.history"
   ]
  },
  {
   "cell_type": "markdown",
   "metadata": {},
   "source": [
    "# Evaluate"
   ]
  },
  {
   "cell_type": "code",
   "execution_count": null,
   "metadata": {},
   "outputs": [],
   "source": [
    "iz = model.evaluate_generator(test_generator, max_queue_size=10, workers=1, use_multiprocessing=False, steps=None)"
   ]
  },
  {
   "cell_type": "code",
   "execution_count": null,
   "metadata": {},
   "outputs": [],
   "source": []
  },
  {
   "cell_type": "code",
   "execution_count": null,
   "metadata": {},
   "outputs": [],
   "source": [
    "a = model.evaluate(x_test, y_test, batch_size = batch_size, verbose=1, sample_weight=None, steps=None)"
   ]
  },
  {
   "cell_type": "code",
   "execution_count": null,
   "metadata": {},
   "outputs": [],
   "source": [
    "a"
   ]
  },
  {
   "cell_type": "code",
   "execution_count": null,
   "metadata": {},
   "outputs": [],
   "source": []
  },
  {
   "cell_type": "code",
   "execution_count": null,
   "metadata": {},
   "outputs": [],
   "source": [
    "print(y_test.shape)\n",
    "print(a.shape)"
   ]
  },
  {
   "cell_type": "code",
   "execution_count": null,
   "metadata": {},
   "outputs": [],
   "source": [
    "def pixel_accuracy(eval_segm, gt_segm):\n",
    "    '''\n",
    "    sum_i(n_ii) / sum_i(t_i)\n",
    "    '''\n",
    "\n",
    "    check_size(eval_segm, gt_segm)\n",
    "\n",
    "    cl, n_cl = extract_classes(gt_segm)\n",
    "    eval_mask, gt_mask = extract_both_masks(eval_segm, gt_segm, cl, n_cl)\n",
    "\n",
    "    sum_n_ii = 0\n",
    "    sum_t_i  = 0\n",
    "\n",
    "    for i, c in enumerate(cl):\n",
    "        curr_eval_mask = eval_mask[i, :, :]\n",
    "        curr_gt_mask = gt_mask[i, :, :]\n",
    "\n",
    "        sum_n_ii += np.sum(np.logical_and(curr_eval_mask, curr_gt_mask))\n",
    "        sum_t_i  += np.sum(curr_gt_mask)\n",
    " \n",
    "    if (sum_t_i == 0):\n",
    "        pixel_accuracy_ = 0\n",
    "    else:\n",
    "        pixel_accuracy_ = sum_n_ii / sum_t_i\n",
    "\n",
    "    return pixel_accuracy_\n",
    "\n",
    "def mean_accuracy(eval_segm, gt_segm):\n",
    "    '''\n",
    "    (1/n_cl) sum_i(n_ii/t_i)\n",
    "    '''\n",
    "\n",
    "    check_size(eval_segm, gt_segm)\n",
    "\n",
    "    cl, n_cl = extract_classes(gt_segm)\n",
    "    eval_mask, gt_mask = extract_both_masks(eval_segm, gt_segm, cl, n_cl)\n",
    "\n",
    "    accuracy = list([0]) * n_cl\n",
    "\n",
    "    for i, c in enumerate(cl):\n",
    "        curr_eval_mask = eval_mask[i, :, :]\n",
    "        curr_gt_mask = gt_mask[i, :, :]\n",
    "\n",
    "        n_ii = np.sum(np.logical_and(curr_eval_mask, curr_gt_mask))\n",
    "        t_i  = np.sum(curr_gt_mask)\n",
    " \n",
    "        if (t_i != 0):\n",
    "            accuracy[i] = n_ii / t_i\n",
    "\n",
    "    mean_accuracy_ = np.mean(accuracy)\n",
    "    return mean_accuracy_\n",
    "\n",
    "def mean_IU(eval_segm, gt_segm):\n",
    "    '''\n",
    "    (1/n_cl) * sum_i(n_ii / (t_i + sum_j(n_ji) - n_ii))\n",
    "    '''\n",
    "\n",
    "    check_size(eval_segm, gt_segm)\n",
    "\n",
    "    cl, n_cl   = union_classes(eval_segm, gt_segm)\n",
    "    _, n_cl_gt = extract_classes(gt_segm)\n",
    "    eval_mask, gt_mask = extract_both_masks(eval_segm, gt_segm, cl, n_cl)\n",
    "\n",
    "    IU = list([0]) * n_cl\n",
    "\n",
    "    for i, c in enumerate(cl):\n",
    "        curr_eval_mask = eval_mask[i, :, :]\n",
    "        curr_gt_mask = gt_mask[i, :, :]\n",
    " \n",
    "        if (np.sum(curr_eval_mask) == 0) or (np.sum(curr_gt_mask) == 0):\n",
    "            continue\n",
    "\n",
    "        n_ii = np.sum(np.logical_and(curr_eval_mask, curr_gt_mask))\n",
    "        t_i  = np.sum(curr_gt_mask)\n",
    "        n_ij = np.sum(curr_eval_mask)\n",
    "\n",
    "        IU[i] = n_ii / (t_i + n_ij - n_ii)\n",
    " \n",
    "    mean_IU_ = np.sum(IU) / n_cl_gt\n",
    "    return mean_IU_\n",
    "\n",
    "def frequency_weighted_IU(eval_segm, gt_segm):\n",
    "    '''\n",
    "    sum_k(t_k)^(-1) * sum_i((t_i*n_ii)/(t_i + sum_j(n_ji) - n_ii))\n",
    "    '''\n",
    "\n",
    "    check_size(eval_segm, gt_segm)\n",
    "\n",
    "    cl, n_cl = union_classes(eval_segm, gt_segm)\n",
    "    eval_mask, gt_mask = extract_both_masks(eval_segm, gt_segm, cl, n_cl)\n",
    "\n",
    "    frequency_weighted_IU_ = list([0]) * n_cl\n",
    "\n",
    "    for i, c in enumerate(cl):\n",
    "        curr_eval_mask = eval_mask[i, :, :]\n",
    "        curr_gt_mask = gt_mask[i, :, :]\n",
    " \n",
    "        if (np.sum(curr_eval_mask) == 0) or (np.sum(curr_gt_mask) == 0):\n",
    "            continue\n",
    "\n",
    "        n_ii = np.sum(np.logical_and(curr_eval_mask, curr_gt_mask))\n",
    "        t_i  = np.sum(curr_gt_mask)\n",
    "        n_ij = np.sum(curr_eval_mask)\n",
    "\n",
    "        frequency_weighted_IU_[i] = (t_i * n_ii) / (t_i + n_ij - n_ii)\n",
    " \n",
    "    sum_k_t_k = get_pixel_area(eval_segm)\n",
    "    \n",
    "    frequency_weighted_IU_ = np.sum(frequency_weighted_IU_) / sum_k_t_k\n",
    "    return frequency_weighted_IU_\n",
    "\n",
    "'''\n",
    "Auxiliary functions used during evaluation.\n",
    "'''\n",
    "def get_pixel_area(segm):\n",
    "    return segm.shape[0] * segm.shape[1]\n",
    "\n",
    "def extract_both_masks(eval_segm, gt_segm, cl, n_cl):\n",
    "    eval_mask = extract_masks(eval_segm, cl, n_cl)\n",
    "    gt_mask   = extract_masks(gt_segm, cl, n_cl)\n",
    "\n",
    "    return eval_mask, gt_mask\n",
    "\n",
    "def extract_classes(segm):\n",
    "    cl = np.unique(segm)\n",
    "    n_cl = len(cl)\n",
    "\n",
    "    return cl, n_cl\n",
    "\n",
    "def union_classes(eval_segm, gt_segm):\n",
    "    eval_cl, _ = extract_classes(eval_segm)\n",
    "    gt_cl, _   = extract_classes(gt_segm)\n",
    "\n",
    "    cl = np.union1d(eval_cl, gt_cl)\n",
    "    n_cl = len(cl)\n",
    "\n",
    "    return cl, n_cl\n",
    "\n",
    "def extract_masks(segm, cl, n_cl):\n",
    "    h, w  = segm_size(segm)\n",
    "    masks = np.zeros((n_cl, h, w))\n",
    "\n",
    "    for i, c in enumerate(cl):\n",
    "        masks[i, :, :] = segm == c\n",
    "\n",
    "    return masks\n",
    "\n",
    "def segm_size(segm):\n",
    "    try:\n",
    "        height = segm.shape[0]\n",
    "        width  = segm.shape[1]\n",
    "    except IndexError:\n",
    "        raise\n",
    "\n",
    "    return height, width\n",
    "\n",
    "def check_size(eval_segm, gt_segm):\n",
    "    h_e, w_e = segm_size(eval_segm)\n",
    "    h_g, w_g = segm_size(gt_segm)\n",
    "\n",
    "    if (h_e != h_g) or (w_e != w_g):\n",
    "        raise EvalSegErr(\"DiffDim: Different dimensions of matrices!\")\n",
    "\n",
    "'''\n",
    "Exceptions\n",
    "'''\n",
    "class EvalSegErr(Exception):\n",
    "    def __init__(self, value):\n",
    "        self.value = value\n",
    "\n",
    "    def __str__(self):\n",
    "        return repr(self.value)"
   ]
  },
  {
   "cell_type": "code",
   "execution_count": null,
   "metadata": {},
   "outputs": [],
   "source": [
    "kek = pixel_accuracy(y_test_pred[0,:,:,0], y_test[0,:,:,0])"
   ]
  },
  {
   "cell_type": "code",
   "execution_count": null,
   "metadata": {},
   "outputs": [],
   "source": [
    "a[0,:,:,0].shape"
   ]
  },
  {
   "cell_type": "code",
   "execution_count": null,
   "metadata": {},
   "outputs": [],
   "source": [
    "kek"
   ]
  },
  {
   "cell_type": "code",
   "execution_count": null,
   "metadata": {},
   "outputs": [],
   "source": [
    "y_test[0,:,:,0]"
   ]
  },
  {
   "cell_type": "code",
   "execution_count": null,
   "metadata": {},
   "outputs": [],
   "source": []
  }
 ],
 "metadata": {
  "kernelspec": {
   "display_name": "Python 3",
   "language": "python",
   "name": "python3"
  },
  "language_info": {
   "codemirror_mode": {
    "name": "ipython",
    "version": 3
   },
   "file_extension": ".py",
   "mimetype": "text/x-python",
   "name": "python",
   "nbconvert_exporter": "python",
   "pygments_lexer": "ipython3",
   "version": "3.6.1"
  }
 },
 "nbformat": 4,
 "nbformat_minor": 2
}
