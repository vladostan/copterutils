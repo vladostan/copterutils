{
 "cells": [
  {
   "cell_type": "code",
   "execution_count": 1,
   "metadata": {},
   "outputs": [],
   "source": [
    "import numpy as np\n",
    "import matplotlib.pylab as plt\n",
    "import cv2\n",
    "import os\n",
    "import random\n",
    "from sklearn.model_selection import train_test_split\n",
    "\n",
    "%matplotlib inline"
   ]
  },
  {
   "cell_type": "code",
   "execution_count": 2,
   "metadata": {},
   "outputs": [],
   "source": [
    "x_npz = np.load(\"images.npz\")\n",
    "x = x_npz['arr_0']\n",
    "y_npz = np.load(\"labels.npz\")\n",
    "y = y_npz['arr_0']"
   ]
  },
  {
   "cell_type": "code",
   "execution_count": 3,
   "metadata": {},
   "outputs": [
    {
     "name": "stdout",
     "output_type": "stream",
     "text": [
      "(60, 256, 320, 3)\n",
      "(20, 256, 320, 3)\n",
      "(60, 256, 320)\n",
      "(20, 256, 320)\n"
     ]
    }
   ],
   "source": [
    "X_train, X_test, y_train, y_test = train_test_split(x,y, test_size=0.25, random_state=1)\n",
    "print(np.array(X_train).shape)\n",
    "print(np.array(X_test).shape)\n",
    "print(np.array(y_train).shape)\n",
    "print(np.array(y_test).shape)"
   ]
  },
  {
   "cell_type": "code",
   "execution_count": null,
   "metadata": {},
   "outputs": [
    {
     "data": {
      "text/plain": [
       "<matplotlib.image.AxesImage at 0x18bedae1390>"
      ]
     },
     "execution_count": 4,
     "metadata": {},
     "output_type": "execute_result"
    }
   ],
   "source": [
    "# Matplotlib black magic\n",
    "plt.figure(figsize=(10,10))\n",
    "plt.imshow(X_train[random.randint(0,len(X_train))])  "
   ]
  },
  {
   "cell_type": "code",
   "execution_count": 26,
   "metadata": {},
   "outputs": [],
   "source": [
    "n_train_samples, img_height, img_width, n_channels = np.array(X_train).shape"
   ]
  },
  {
   "cell_type": "code",
   "execution_count": 28,
   "metadata": {},
   "outputs": [],
   "source": [
    "n_train_samples, img_height, img_width, n_channels = np.array(X_train).shape\n",
    "n_classes = 11\n",
    "\n",
    "n_test_samples = len(X_test)\n",
    "\n",
    "t = np.zeros((n_train_samples, img_height, img_width, n_classes))\n",
    "\n",
    "for i in range (0, img_height):\n",
    "    for j in range (0, img_width):\n",
    "        for k in range (0, n_train_samples):\n",
    "            t[k][i][j][y_train[k][i][j] - 1] = 1\n",
    "            \n",
    "y_train = t\n",
    "del(t)"
   ]
  },
  {
   "cell_type": "code",
   "execution_count": 86,
   "metadata": {},
   "outputs": [
    {
     "name": "stdout",
     "output_type": "stream",
     "text": [
      "(60, 256, 320, 11)\n"
     ]
    }
   ],
   "source": [
    "print(y_train.shape)"
   ]
  },
  {
   "cell_type": "code",
   "execution_count": 35,
   "metadata": {},
   "outputs": [],
   "source": [
    "# UNET-11 class model\n",
    "import numpy as np \n",
    "import os\n",
    "import skimage.io as io\n",
    "import skimage.transform as trans\n",
    "import numpy as np\n",
    "from keras.models import *\n",
    "from keras.layers import *\n",
    "from keras.optimizers import *\n",
    "from keras.layers.merge import concatenate\n",
    "from keras.callbacks import ModelCheckpoint, LearningRateScheduler\n",
    "from keras import backend as keras\n",
    "\n",
    "def Unet11(input_size = (256,320,3), n_classes = 11):\n",
    "    inputs = Input(input_size)\n",
    "    conv1 = Conv2D(64, 3, activation = 'relu', padding = 'same', kernel_initializer = 'he_normal')(inputs)\n",
    "    conv1 = Conv2D(64, 3, activation = 'relu', padding = 'same', kernel_initializer = 'he_normal')(conv1)\n",
    "    pool1 = MaxPooling2D(pool_size=(2, 2))(conv1)\n",
    "    conv2 = Conv2D(128, 3, activation = 'relu', padding = 'same', kernel_initializer = 'he_normal')(pool1)\n",
    "    conv2 = Conv2D(128, 3, activation = 'relu', padding = 'same', kernel_initializer = 'he_normal')(conv2)\n",
    "    pool2 = MaxPooling2D(pool_size=(2, 2))(conv2)\n",
    "    conv3 = Conv2D(256, 3, activation = 'relu', padding = 'same', kernel_initializer = 'he_normal')(pool2)\n",
    "    conv3 = Conv2D(256, 3, activation = 'relu', padding = 'same', kernel_initializer = 'he_normal')(conv3)\n",
    "    pool3 = MaxPooling2D(pool_size=(2, 2))(conv3)\n",
    "    conv4 = Conv2D(512, 3, activation = 'relu', padding = 'same', kernel_initializer = 'he_normal')(pool3)\n",
    "    conv4 = Conv2D(512, 3, activation = 'relu', padding = 'same', kernel_initializer = 'he_normal')(conv4)\n",
    "    drop4 = Dropout(0.5)(conv4)\n",
    "    pool4 = MaxPooling2D(pool_size=(2, 2))(drop4)\n",
    "\n",
    "    conv5 = Conv2D(1024, 3, activation = 'relu', padding = 'same', kernel_initializer = 'he_normal')(pool4)\n",
    "    conv5 = Conv2D(1024, 3, activation = 'relu', padding = 'same', kernel_initializer = 'he_normal')(conv5)\n",
    "    drop5 = Dropout(0.5)(conv5)\n",
    "\n",
    "    up6 = Conv2D(512, 2, activation = 'relu', padding = 'same', kernel_initializer = 'he_normal')(UpSampling2D(size = (2,2))(drop5))\n",
    "    merge6 = concatenate([drop4,up6], axis = 3)\n",
    "    conv6 = Conv2D(512, 3, activation = 'relu', padding = 'same', kernel_initializer = 'he_normal')(merge6)\n",
    "    conv6 = Conv2D(512, 3, activation = 'relu', padding = 'same', kernel_initializer = 'he_normal')(conv6)\n",
    "\n",
    "    up7 = Conv2D(256, 2, activation = 'relu', padding = 'same', kernel_initializer = 'he_normal')(UpSampling2D(size = (2,2))(conv6))\n",
    "    merge7 = concatenate([conv3,up7], axis = 3)\n",
    "    conv7 = Conv2D(256, 3, activation = 'relu', padding = 'same', kernel_initializer = 'he_normal')(merge7)\n",
    "    conv7 = Conv2D(256, 3, activation = 'relu', padding = 'same', kernel_initializer = 'he_normal')(conv7)\n",
    "\n",
    "    up8 = Conv2D(128, 2, activation = 'relu', padding = 'same', kernel_initializer = 'he_normal')(UpSampling2D(size = (2,2))(conv7))\n",
    "    merge8 = concatenate([conv2,up8], axis = 3)\n",
    "    conv8 = Conv2D(128, 3, activation = 'relu', padding = 'same', kernel_initializer = 'he_normal')(merge8)\n",
    "    conv8 = Conv2D(128, 3, activation = 'relu', padding = 'same', kernel_initializer = 'he_normal')(conv8)\n",
    "\n",
    "    up9 = Conv2D(64, 2, activation = 'relu', padding = 'same', kernel_initializer = 'he_normal')(UpSampling2D(size = (2,2))(conv8))\n",
    "    merge9 = concatenate([conv1,up9], axis = 3)\n",
    "    conv9 = Conv2D(64, 3, activation = 'relu', padding = 'same', kernel_initializer = 'he_normal')(merge9)\n",
    "    conv9 = Conv2D(64, 3, activation = 'relu', padding = 'same', kernel_initializer = 'he_normal')(conv9)\n",
    "    conv9 = Conv2D(2, 3, activation = 'relu', padding = 'same', kernel_initializer = 'he_normal')(conv9)\n",
    "    conv10 = Conv2D(n_classes, 1, activation = 'softmax')(conv9)\n",
    "\n",
    "    model = Model(inputs = inputs, outputs = conv10)\n",
    "\n",
    "#     model.compile(optimizer = Adam(lr = 1e-4), loss = 'categorical_crossentropy', metrics = ['accuracy'])\n",
    "    \n",
    "#     if(pretrained_weights):\n",
    "#         model.load_weights(pretrained_weights)\n",
    "\n",
    "    return model"
   ]
  },
  {
   "cell_type": "code",
   "execution_count": 37,
   "metadata": {},
   "outputs": [],
   "source": [
    "from keras.preprocessing.image import ImageDataGenerator\n",
    "\n",
    "train_datagen = ImageDataGenerator(rescale=1. / 255, horizontal_flip=True, rotation_range=30)\n",
    "test_datagen = ImageDataGenerator(rescale=1. / 255)\n",
    "\n",
    "batch_size = 4\n",
    "\n",
    "train_generator = train_datagen.flow(np.array(X_train), y_train, batch_size=batch_size)\n",
    "test_generator = test_datagen.flow(np.array(X_test), y_test, batch_size=batch_size)"
   ]
  },
  {
   "cell_type": "code",
   "execution_count": 43,
   "metadata": {},
   "outputs": [
    {
     "name": "stdout",
     "output_type": "stream",
     "text": [
      "Epoch 1/20\n"
     ]
    },
    {
     "name": "stderr",
     "output_type": "stream",
     "text": [
      "D:\\Anaconda\\lib\\site-packages\\keras\\callbacks.py:496: RuntimeWarning: Early stopping conditioned on metric `val_loss` which is not available. Available metrics are: loss,acc\n",
      "  (self.monitor, ','.join(list(logs.keys()))), RuntimeWarning\n",
      "D:\\Anaconda\\lib\\site-packages\\keras\\callbacks.py:405: RuntimeWarning: Can save best model only with val_loss available, skipping.\n",
      "  'skipping.' % (self.monitor), RuntimeWarning)\n"
     ]
    },
    {
     "name": "stdout",
     "output_type": "stream",
     "text": [
      "57s - loss: 2.7786 - acc: 0.5386\n",
      "Epoch 2/20\n",
      "38s - loss: 2.3747 - acc: 0.6146\n",
      "Epoch 3/20\n",
      "38s - loss: 2.3581 - acc: 0.6146\n",
      "Epoch 4/20\n",
      "39s - loss: 2.3416 - acc: 0.6146\n",
      "Epoch 5/20\n",
      "39s - loss: 2.3253 - acc: 0.6146\n",
      "Epoch 6/20\n",
      "39s - loss: 2.3093 - acc: 0.6146\n",
      "Epoch 7/20\n",
      "39s - loss: 2.2932 - acc: 0.6146\n",
      "Epoch 8/20\n",
      "39s - loss: 2.2772 - acc: 0.6146\n",
      "Epoch 9/20\n",
      "39s - loss: 2.2617 - acc: 0.6146\n",
      "Epoch 10/20\n",
      "39s - loss: 2.2461 - acc: 0.6146\n",
      "Epoch 11/20\n",
      "39s - loss: 2.2305 - acc: 0.6146\n",
      "Epoch 12/20\n",
      "39s - loss: 2.2154 - acc: 0.6146\n",
      "Epoch 13/20\n",
      "39s - loss: 2.2004 - acc: 0.6146\n",
      "Epoch 14/20\n",
      "39s - loss: 2.1855 - acc: 0.6146\n",
      "Epoch 15/20\n",
      "40s - loss: 2.1707 - acc: 0.6146\n",
      "Epoch 16/20\n",
      "39s - loss: 2.1562 - acc: 0.6146\n",
      "Epoch 17/20\n",
      "39s - loss: 2.1418 - acc: 0.6146\n",
      "Epoch 18/20\n",
      "39s - loss: 2.1276 - acc: 0.6146\n",
      "Epoch 19/20\n",
      "39s - loss: 2.1134 - acc: 0.6146\n",
      "Epoch 20/20\n",
      "40s - loss: 2.0996 - acc: 0.6146\n",
      "Epoch 1/5\n",
      "40s - loss: 2.0907 - acc: 0.6281\n",
      "Epoch 2/5\n",
      "39s - loss: 2.0740 - acc: 0.6202\n",
      "Epoch 3/5\n",
      "40s - loss: 2.0875 - acc: 0.5643\n",
      "Epoch 4/5\n",
      "40s - loss: 2.0580 - acc: 0.6671\n",
      "Epoch 5/5\n",
      "39s - loss: 2.0668 - acc: 0.5926\n",
      "Epoch 1/5\n",
      "41s - loss: 2.0513 - acc: 0.6394\n",
      "Epoch 2/5\n",
      "39s - loss: 2.0530 - acc: 0.6311\n",
      "Epoch 3/5\n",
      "39s - loss: 2.0557 - acc: 0.6154\n",
      "Epoch 4/5\n",
      "39s - loss: 2.0444 - acc: 0.6256\n",
      "Epoch 5/5\n",
      "39s - loss: 2.0551 - acc: 0.5897\n"
     ]
    }
   ],
   "source": [
    "from keras.callbacks import EarlyStopping, ModelCheckpoint, LearningRateScheduler\n",
    "\n",
    "model = Unet11()\n",
    "\n",
    "weights_path = 'weight.h5'\n",
    "\n",
    "epochs_arr  = [   20,      5,      5]\n",
    "learn_rates = [0.001, 0.0005, 0.0001]\n",
    "\n",
    "for learn_rate, epochs in zip(learn_rates, epochs_arr):\n",
    "#     if os.path.isfile(weights_path):\n",
    "#         print(\"loading existing weight for training\")\n",
    "#         model.load_weights(weights_path)\n",
    "    \n",
    "    opt  = optimizers.Adam(lr=learn_rate)\n",
    "    model.compile(loss='categorical_crossentropy', # We NEED binary here, since categorical_crossentropy l1 norms the output before calculating loss.\n",
    "                  optimizer=opt,\n",
    "                  metrics=['accuracy'])\n",
    "    callbacks = [ModelCheckpoint(weights_path, monitor='loss', save_best_only=True, verbose=2)] #TODO\n",
    "\n",
    "#     model.fit(x = X_train, y= Y_train, validation_data=(X_val, Y_val),\n",
    "#           batch_size=256, verbose=2, epochs=epochs, callbacks=callbacks, shuffle=True)\n",
    "\n",
    "    history = model.fit_generator(train_generator, steps_per_epoch=n_train_samples // batch_size, epochs=epochs,\n",
    "                                 verbose=1, callbacks = callbacks)\n",
    "    \n",
    "model.save_weights('weights.h5')\n"
   ]
  },
  {
   "cell_type": "code",
   "execution_count": 44,
   "metadata": {},
   "outputs": [],
   "source": [
    "# model.save_weights('Unet11weights.h5')"
   ]
  },
  {
   "cell_type": "code",
   "execution_count": null,
   "metadata": {},
   "outputs": [],
   "source": []
  },
  {
   "cell_type": "code",
   "execution_count": null,
   "metadata": {},
   "outputs": [],
   "source": []
  },
  {
   "cell_type": "code",
   "execution_count": null,
   "metadata": {},
   "outputs": [],
   "source": []
  },
  {
   "cell_type": "code",
   "execution_count": 76,
   "metadata": {},
   "outputs": [
    {
     "name": "stdout",
     "output_type": "stream",
     "text": [
      "4/4 [==============================] - 2s     \n"
     ]
    }
   ],
   "source": [
    "results = model.predict_generator(test_generator,4, verbose=1)"
   ]
  },
  {
   "cell_type": "code",
   "execution_count": 79,
   "metadata": {},
   "outputs": [
    {
     "data": {
      "text/plain": [
       "array([ 0.1238859 ,  0.14719352,  0.07616436,  0.1073738 ,  0.08353125,\n",
       "        0.07667171,  0.07949865,  0.07566057,  0.07565576,  0.07574201,\n",
       "        0.07862248], dtype=float32)"
      ]
     },
     "execution_count": 79,
     "metadata": {},
     "output_type": "execute_result"
    }
   ],
   "source": [
    "results[0][0,100,:]"
   ]
  },
  {
   "cell_type": "code",
   "execution_count": null,
   "metadata": {},
   "outputs": [],
   "source": [
    "t = np.zeros((n_train_samples, img_height, img_width, n_classes))\n",
    "\n",
    "for i in range (0, img_height):\n",
    "    for j in range (0, img_width):\n",
    "        for k in range (0, n_train_samples):\n",
    "            t[k][i][j][y_train[k][i][j] - 1] = 1"
   ]
  },
  {
   "cell_type": "code",
   "execution_count": null,
   "metadata": {},
   "outputs": [],
   "source": []
  },
  {
   "cell_type": "code",
   "execution_count": null,
   "metadata": {},
   "outputs": [],
   "source": []
  },
  {
   "cell_type": "code",
   "execution_count": null,
   "metadata": {},
   "outputs": [],
   "source": []
  },
  {
   "cell_type": "code",
   "execution_count": null,
   "metadata": {},
   "outputs": [],
   "source": []
  }
 ],
 "metadata": {
  "kernelspec": {
   "display_name": "Python 3",
   "language": "python",
   "name": "python3"
  },
  "language_info": {
   "codemirror_mode": {
    "name": "ipython",
    "version": 3
   },
   "file_extension": ".py",
   "mimetype": "text/x-python",
   "name": "python",
   "nbconvert_exporter": "python",
   "pygments_lexer": "ipython3",
   "version": "3.6.1"
  }
 },
 "nbformat": 4,
 "nbformat_minor": 2
}
