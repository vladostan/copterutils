{
 "cells": [
  {
   "cell_type": "code",
   "execution_count": 1,
   "metadata": {},
   "outputs": [],
   "source": [
    "import PIL.Image as PIL\n",
    "import os,re"
   ]
  },
  {
   "cell_type": "code",
   "execution_count": 2,
   "metadata": {},
   "outputs": [],
   "source": [
    "def get_new_path(path):\n",
    "    basedir = os.path.dirname(path) + '/resized/'\n",
    "    if not os.path.isdir(basedir):\n",
    "        os.makedirs(basedir)\n",
    "    base, ext = os.path.splitext(os.path.basename(path))\n",
    "\n",
    "    return basedir + base + ext"
   ]
  },
  {
   "cell_type": "code",
   "execution_count": 3,
   "metadata": {},
   "outputs": [],
   "source": [
    "JPG = re.compile(\".*\\.(jpg|jpeg)\", re.IGNORECASE)\n",
    "\n",
    "# Images directory\n",
    "image_dir = \"D:\\\\Kamaz\\\\segmentation_from_copter\\\\data\\\\1Aug18\"\n",
    "\n",
    "files = os.listdir(image_dir)\n",
    "\n",
    "test = PIL.open(image_dir.rstrip(\"/\") + \"/\" + files[0])\n",
    "\n",
    "# Get image aspect ratio\n",
    "aspectRatio = test.size[0]/test.size[1]\n",
    "\n",
    "# Desired size\n",
    "desiredSize = (1280, 1024)\n",
    "\n",
    "# Size\n",
    "size = (desiredSize[1]*aspectRatio, desiredSize[1])\n",
    "\n",
    "# Crop central part\n",
    "left = (desiredSize[1]*aspectRatio - desiredSize[0])/2\n",
    "top = 0\n",
    "right = desiredSize[0]+(desiredSize[1]*aspectRatio - desiredSize[0])/2\n",
    "bottom = desiredSize[1]\n",
    "\n",
    "areaCrop = (left, 0, right, bottom)"
   ]
  },
  {
   "cell_type": "code",
   "execution_count": 4,
   "metadata": {},
   "outputs": [
    {
     "name": "stdout",
     "output_type": "stream",
     "text": [
      "D:\\Kamaz\\segmentation_from_copter\\data\\1Aug18/resized/DJI_1_aug_18 (1).JPG\n",
      "D:\\Kamaz\\segmentation_from_copter\\data\\1Aug18/resized/DJI_1_aug_18 (10).JPG\n",
      "D:\\Kamaz\\segmentation_from_copter\\data\\1Aug18/resized/DJI_1_aug_18 (11).JPG\n",
      "D:\\Kamaz\\segmentation_from_copter\\data\\1Aug18/resized/DJI_1_aug_18 (12).JPG\n",
      "D:\\Kamaz\\segmentation_from_copter\\data\\1Aug18/resized/DJI_1_aug_18 (13).JPG\n",
      "D:\\Kamaz\\segmentation_from_copter\\data\\1Aug18/resized/DJI_1_aug_18 (14).JPG\n",
      "D:\\Kamaz\\segmentation_from_copter\\data\\1Aug18/resized/DJI_1_aug_18 (15).JPG\n",
      "D:\\Kamaz\\segmentation_from_copter\\data\\1Aug18/resized/DJI_1_aug_18 (16).JPG\n",
      "D:\\Kamaz\\segmentation_from_copter\\data\\1Aug18/resized/DJI_1_aug_18 (17).JPG\n",
      "D:\\Kamaz\\segmentation_from_copter\\data\\1Aug18/resized/DJI_1_aug_18 (18).JPG\n",
      "D:\\Kamaz\\segmentation_from_copter\\data\\1Aug18/resized/DJI_1_aug_18 (19).JPG\n",
      "D:\\Kamaz\\segmentation_from_copter\\data\\1Aug18/resized/DJI_1_aug_18 (2).JPG\n",
      "D:\\Kamaz\\segmentation_from_copter\\data\\1Aug18/resized/DJI_1_aug_18 (20).JPG\n",
      "D:\\Kamaz\\segmentation_from_copter\\data\\1Aug18/resized/DJI_1_aug_18 (21).JPG\n",
      "D:\\Kamaz\\segmentation_from_copter\\data\\1Aug18/resized/DJI_1_aug_18 (22).JPG\n",
      "D:\\Kamaz\\segmentation_from_copter\\data\\1Aug18/resized/DJI_1_aug_18 (23).JPG\n",
      "D:\\Kamaz\\segmentation_from_copter\\data\\1Aug18/resized/DJI_1_aug_18 (24).JPG\n",
      "D:\\Kamaz\\segmentation_from_copter\\data\\1Aug18/resized/DJI_1_aug_18 (25).JPG\n",
      "D:\\Kamaz\\segmentation_from_copter\\data\\1Aug18/resized/DJI_1_aug_18 (26).JPG\n",
      "D:\\Kamaz\\segmentation_from_copter\\data\\1Aug18/resized/DJI_1_aug_18 (27).JPG\n",
      "D:\\Kamaz\\segmentation_from_copter\\data\\1Aug18/resized/DJI_1_aug_18 (28).JPG\n",
      "D:\\Kamaz\\segmentation_from_copter\\data\\1Aug18/resized/DJI_1_aug_18 (29).JPG\n",
      "D:\\Kamaz\\segmentation_from_copter\\data\\1Aug18/resized/DJI_1_aug_18 (3).JPG\n",
      "D:\\Kamaz\\segmentation_from_copter\\data\\1Aug18/resized/DJI_1_aug_18 (30).JPG\n",
      "D:\\Kamaz\\segmentation_from_copter\\data\\1Aug18/resized/DJI_1_aug_18 (31).JPG\n",
      "D:\\Kamaz\\segmentation_from_copter\\data\\1Aug18/resized/DJI_1_aug_18 (32).JPG\n",
      "D:\\Kamaz\\segmentation_from_copter\\data\\1Aug18/resized/DJI_1_aug_18 (33).JPG\n",
      "D:\\Kamaz\\segmentation_from_copter\\data\\1Aug18/resized/DJI_1_aug_18 (34).JPG\n",
      "D:\\Kamaz\\segmentation_from_copter\\data\\1Aug18/resized/DJI_1_aug_18 (35).JPG\n",
      "D:\\Kamaz\\segmentation_from_copter\\data\\1Aug18/resized/DJI_1_aug_18 (36).JPG\n",
      "D:\\Kamaz\\segmentation_from_copter\\data\\1Aug18/resized/DJI_1_aug_18 (37).JPG\n",
      "D:\\Kamaz\\segmentation_from_copter\\data\\1Aug18/resized/DJI_1_aug_18 (38).JPG\n",
      "D:\\Kamaz\\segmentation_from_copter\\data\\1Aug18/resized/DJI_1_aug_18 (39).JPG\n",
      "D:\\Kamaz\\segmentation_from_copter\\data\\1Aug18/resized/DJI_1_aug_18 (4).JPG\n",
      "D:\\Kamaz\\segmentation_from_copter\\data\\1Aug18/resized/DJI_1_aug_18 (40).JPG\n",
      "D:\\Kamaz\\segmentation_from_copter\\data\\1Aug18/resized/DJI_1_aug_18 (41).JPG\n",
      "D:\\Kamaz\\segmentation_from_copter\\data\\1Aug18/resized/DJI_1_aug_18 (42).JPG\n",
      "D:\\Kamaz\\segmentation_from_copter\\data\\1Aug18/resized/DJI_1_aug_18 (43).JPG\n",
      "D:\\Kamaz\\segmentation_from_copter\\data\\1Aug18/resized/DJI_1_aug_18 (44).JPG\n",
      "D:\\Kamaz\\segmentation_from_copter\\data\\1Aug18/resized/DJI_1_aug_18 (45).JPG\n",
      "D:\\Kamaz\\segmentation_from_copter\\data\\1Aug18/resized/DJI_1_aug_18 (46).JPG\n",
      "D:\\Kamaz\\segmentation_from_copter\\data\\1Aug18/resized/DJI_1_aug_18 (47).JPG\n",
      "D:\\Kamaz\\segmentation_from_copter\\data\\1Aug18/resized/DJI_1_aug_18 (48).JPG\n",
      "D:\\Kamaz\\segmentation_from_copter\\data\\1Aug18/resized/DJI_1_aug_18 (49).JPG\n",
      "D:\\Kamaz\\segmentation_from_copter\\data\\1Aug18/resized/DJI_1_aug_18 (5).JPG\n",
      "D:\\Kamaz\\segmentation_from_copter\\data\\1Aug18/resized/DJI_1_aug_18 (50).JPG\n",
      "D:\\Kamaz\\segmentation_from_copter\\data\\1Aug18/resized/DJI_1_aug_18 (51).JPG\n",
      "D:\\Kamaz\\segmentation_from_copter\\data\\1Aug18/resized/DJI_1_aug_18 (52).JPG\n",
      "D:\\Kamaz\\segmentation_from_copter\\data\\1Aug18/resized/DJI_1_aug_18 (53).JPG\n",
      "D:\\Kamaz\\segmentation_from_copter\\data\\1Aug18/resized/DJI_1_aug_18 (54).JPG\n",
      "D:\\Kamaz\\segmentation_from_copter\\data\\1Aug18/resized/DJI_1_aug_18 (6).JPG\n",
      "D:\\Kamaz\\segmentation_from_copter\\data\\1Aug18/resized/DJI_1_aug_18 (7).JPG\n",
      "D:\\Kamaz\\segmentation_from_copter\\data\\1Aug18/resized/DJI_1_aug_18 (8).JPG\n",
      "D:\\Kamaz\\segmentation_from_copter\\data\\1Aug18/resized/DJI_1_aug_18 (9).JPG\n"
     ]
    }
   ],
   "source": [
    "for file in files:\n",
    "    if JPG.match(file):\n",
    "        f = image_dir.rstrip(\"/\") + \"/\" + file\n",
    "        img = PIL.open(f)\n",
    "        img.thumbnail(size, PIL.ANTIALIAS)\n",
    "        cropped = img.crop(areaCrop)\n",
    "        cropped.save(get_new_path(f))\n",
    "        print(get_new_path(f))"
   ]
  }
 ],
 "metadata": {
  "kernelspec": {
   "display_name": "Python 3",
   "language": "python",
   "name": "python3"
  },
  "language_info": {
   "codemirror_mode": {
    "name": "ipython",
    "version": 3
   },
   "file_extension": ".py",
   "mimetype": "text/x-python",
   "name": "python",
   "nbconvert_exporter": "python",
   "pygments_lexer": "ipython3",
   "version": "3.6.5"
  }
 },
 "nbformat": 4,
 "nbformat_minor": 2
}
